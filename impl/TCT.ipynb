{
 "cells": [
  {
   "cell_type": "markdown",
   "metadata": {},
   "source": [
    "__import des librairies nécessaires__"
   ]
  },
  {
   "cell_type": "code",
   "execution_count": 1,
   "metadata": {},
   "outputs": [],
   "source": [
    "import torch\n",
    "import torch.nn as nn\n",
    "import torch.nn.functional as F\n",
    "import torch.optim as optim\n",
    "from torchvision import datasets, transforms\n",
    "import numpy as np\n",
    "from tqdm import tqdm\n",
    "import copy\n",
    "import argparse\n",
    "import os\n",
    "import sys\n",
    "#from utils import *"
   ]
  },
  {
   "cell_type": "markdown",
   "metadata": {},
   "source": [
    "__import des autres fichiers__"
   ]
  },
  {
   "cell_type": "code",
   "execution_count": 2,
   "metadata": {},
   "outputs": [
    {
     "name": "stdout",
     "output_type": "stream",
     "text": [
      "c:\\Users\\dmgtr\\chocoEA\\impl\n"
     ]
    }
   ],
   "source": [
    "print(os.getcwd())\n",
    "os.chdir('..')"
   ]
  },
  {
   "cell_type": "code",
   "execution_count": 3,
   "metadata": {},
   "outputs": [
    {
     "name": "stdout",
     "output_type": "stream",
     "text": [
      "c:\\Users\\dmgtr\\chocoEA\n"
     ]
    }
   ],
   "source": [
    "print(os.getcwd())"
   ]
  },
  {
   "cell_type": "code",
   "execution_count": 4,
   "metadata": {},
   "outputs": [],
   "source": [
    "from nv_orga.Models import Net, Net_eNTK, ResNet18, ResNet14\n",
    "from nv_orga.FedAvg import average_models,client_update\n",
    "from nv_orga.Eval import evaluate_many_models\n",
    "from nv_orga.NTK import client_compute_eNTK\n",
    "from nv_orga.NTK import compute_eNTK\n",
    "from nv_orga.Scaffold import scaffold_update"
   ]
  },
  {
   "cell_type": "markdown",
   "metadata": {},
   "source": [
    "__définition des hyperparamètres__"
   ]
  },
  {
   "cell_type": "code",
   "execution_count": 5,
   "metadata": {},
   "outputs": [],
   "source": [
    "args = {\n",
    "    'num_client': 5,\n",
    "    'seed': 1234,\n",
    "    'num_samples_per_client': 5000, #500 de base\n",
    "    'rounds_stage1': 100, #100 de base\n",
    "    'local_epochs_stage1': 5,\n",
    "    'mini_batchsize_stage1': 64,\n",
    "    #'local_lr_stage1': 0.0001,\n",
    "    'local_lr_stage1': 0.1,\n",
    "    'rounds_stage2': 30, #100 de base\n",
    "    'local_steps_stage2': 100,\n",
    "    'local_lr_stage2': 0.001,\n",
    "    #'weight_decay' : 1e-4,\n",
    "    #'momentum' : 0.9,\n",
    "    }"
   ]
  },
  {
   "cell_type": "markdown",
   "metadata": {},
   "source": [
    "__création d'un dossier de sauvegarde pour les modèles successifs du stage 1__"
   ]
  },
  {
   "cell_type": "code",
   "execution_count": 6,
   "metadata": {},
   "outputs": [],
   "source": [
    "isExist = os.path.exists('data/ckpt_stage1')\n",
    "if not isExist:\n",
    "   os.makedirs('data/ckpt_stage1')"
   ]
  },
  {
   "cell_type": "markdown",
   "metadata": {},
   "source": [
    "## __Stage 1__"
   ]
  },
  {
   "cell_type": "markdown",
   "metadata": {},
   "source": [
    "### __hyperparamètres__"
   ]
  },
  {
   "cell_type": "code",
   "execution_count": 7,
   "metadata": {},
   "outputs": [],
   "source": [
    "num_clients = args[\"num_client\"]\n",
    "num_rounds_stage1 = args[\"rounds_stage1\"]\n",
    "epochs_stage1 = args[\"local_epochs_stage1\"]\n",
    "batch_size_stage1 = args[\"mini_batchsize_stage1\"]\n",
    "lr_stage1 = args[\"local_lr_stage1\"]\n",
    "#weight_decay = args[\"weight_decay\"]\n",
    "#momentum = args[\"momentum\"]"
   ]
  },
  {
   "cell_type": "markdown",
   "metadata": {},
   "source": [
    "### __création des datasets décentralisés (ie non idd)__"
   ]
  },
  {
   "cell_type": "code",
   "execution_count": 8,
   "metadata": {},
   "outputs": [
    {
     "name": "stdout",
     "output_type": "stream",
     "text": [
      "Files already downloaded and verified\n"
     ]
    }
   ],
   "source": [
    "## load les data MNIST, les transformer en tensor et les normaliser\n",
    "traindata = datasets.MNIST('data/data_mnist', train=True, download=True,\n",
    "                            transform=transforms.Compose([transforms.ToTensor(),\n",
    "                                                            transforms.Normalize((0.1307,), (0.3081,))]))\n",
    "\n",
    "## load CIFAR-10 data, transform them into tensors, and normalize\n",
    "traindata = datasets.CIFAR10('data/data_cifar10', train=True, download=True,\n",
    "                            transform=transforms.Compose([transforms.ToTensor(),\n",
    "                                                            transforms.Normalize((0.4914, 0.4822, 0.4465), (0.2470, 0.2435, 0.2616))]))\n",
    "\n",
    "targets = torch.tensor(traindata.targets)\n",
    "#target_labels = torch.stack([traindata.targets == i for i in range(10)], dim=0).int() # 10 x 60000 (one-hot qui détermine la label correpondant à la ligne)\n",
    "target_labels = torch.stack([targets == i for i in range(10)], dim=0).int()\n"
   ]
  },
  {
   "cell_type": "code",
   "execution_count": 9,
   "metadata": {},
   "outputs": [],
   "source": [
    "target_labels_split = []\n",
    "torch.manual_seed(args[\"seed\"]) # pour que les splits soient les mêmes à chaque fois\n",
    "torch.cuda.manual_seed(args[\"seed\"])  # pour que les splits soient les mêmes à chaque fois\n",
    "\n",
    "for i in range(num_clients):\n",
    "    #index_split = torch.where(target_labels[(2 * i):(2 * (i + 1))].sum(0))[0] # on prend les labels 2i et 2i+1\n",
    "    index_split = torch.where(target_labels[0:10].sum(0))[0] # on prend les labels 2i et 2i+1\n",
    "    perm_split = torch.randperm(index_split.size(0)) # on mélange les indices\n",
    "    index_split_subsample = index_split[perm_split[:args[\"num_samples_per_client\"]]] \n",
    "    target_labels_split += [index_split_subsample] # on ajoute à la liste des labels splités\n",
    "\n",
    "#Chacun des 5 clients reçoit num_samples_per_client images d'un des deux labels associés"
   ]
  },
  {
   "cell_type": "code",
   "execution_count": 10,
   "metadata": {},
   "outputs": [],
   "source": [
    "# Training datasets (subsampled)\n",
    "traindata_split = [torch.utils.data.Subset(traindata, tl) for tl in target_labels_split] # chaque élément contient les images et labels d'un client\n",
    "train_loader = [torch.utils.data.DataLoader(train_subset, batch_size=batch_size_stage1, shuffle=True)\n",
    "                for train_subset in traindata_split] # on crée les dataloader associés"
   ]
  },
  {
   "cell_type": "markdown",
   "metadata": {},
   "source": [
    "### __création du dataset global de test__"
   ]
  },
  {
   "cell_type": "code",
   "execution_count": 11,
   "metadata": {},
   "outputs": [],
   "source": [
    "# Test dataset (subsampled)\n",
    "#testdata = datasets.MNIST('data/data_mnist', train=False,\n",
    "#                          transform=transforms.Compose([transforms.ToTensor(),\n",
    "#                                                        transforms.Normalize((0.1307,), (0.3081,))])) # on charge les données de test\n",
    "\n",
    "\n",
    "#torch.manual_seed(args[\"seed\"])\n",
    "#torch.cuda.manual_seed(args[\"seed\"])\n",
    "#perm_split_test = torch.randperm(testdata.targets.shape[0])\n",
    "#testdata_subset = torch.utils.data.Subset(testdata, perm_split_test[:1000])\n",
    "#test_loader = torch.utils.data.DataLoader(testdata_subset, batch_size=batch_size_stage1, shuffle=False) #pas de shuffle pour le test"
   ]
  },
  {
   "cell_type": "code",
   "execution_count": 12,
   "metadata": {},
   "outputs": [],
   "source": [
    "testdata = datasets.CIFAR10('data/data_cifar10', train=False,\n",
    "                            transform=transforms.Compose([transforms.ToTensor(),\n",
    "                                                            transforms.Normalize((0.4914, 0.4822, 0.4465), (0.2470, 0.2435, 0.2616))]))\n",
    "\n",
    "\n",
    "# Convertir les cibles en tenseur si nécessaire\n",
    "targets_cifar = torch.tensor(testdata.targets) if isinstance(testdata.targets, list) else testdata.targets\n",
    "\n",
    "torch.manual_seed(args[\"seed\"])\n",
    "torch.cuda.manual_seed(args[\"seed\"])\n",
    "\n",
    "# Création d'un sous-ensemble aléatoire pour CIFAR10\n",
    "perm_split_test = torch.randperm(targets_cifar.shape[0])\n",
    "testdata_subset = torch.utils.data.Subset(testdata, perm_split_test[:10000]) # on prend 1000 images\n",
    "test_loader = torch.utils.data.DataLoader(testdata_subset, batch_size=batch_size_stage1, shuffle=False)"
   ]
  },
  {
   "cell_type": "markdown",
   "metadata": {},
   "source": [
    "### __modèle de réseau de neurones de base__"
   ]
  },
  {
   "cell_type": "code",
   "execution_count": 13,
   "metadata": {},
   "outputs": [],
   "source": [
    "#global_model = Net() #modifié depuis Net().cuda() #Modèle fédéré\n",
    "#client_models = [Net() for _ in range(num_clients)] #modifié depuis Net().cuda() #Modèles des clients\n",
    "#for model in client_models:\n",
    "    #model.load_state_dict(global_model.state_dict())\n",
    "#opt = [optim.SGD(model.parameters(), lr=lr_stage1) for model in client_models]"
   ]
  },
  {
   "cell_type": "code",
   "execution_count": 14,
   "metadata": {},
   "outputs": [],
   "source": [
    "global_model = ResNet18() #modifié depuis Net().cuda() #Modèle fédéré\n",
    "client_models = [ResNet18() for _ in range(num_clients)] #modifié depuis Net().cuda() #Modèles des clients\n",
    "for model in client_models:\n",
    "    model.load_state_dict(global_model.state_dict())\n",
    "\n",
    "opt = [optim.SGD(model.parameters(), lr=lr_stage1) for model in client_models]\n",
    "#opt = [optim.SGD(model.parameters(), lr=lr_stage1, weight_decay=weight_decay, momentum=momentum) for model in client_models]"
   ]
  },
  {
   "cell_type": "markdown",
   "metadata": {},
   "source": [
    "### __imple de FedAvg__"
   ]
  },
  {
   "cell_type": "code",
   "execution_count": 15,
   "metadata": {},
   "outputs": [
    {
     "name": "stdout",
     "output_type": "stream",
     "text": [
      "client i :  0  loss :  1.7062326669692993\n",
      "client i :  1  loss :  1.8570561408996582\n",
      "client i :  2  loss :  2.199442148208618\n",
      "client i :  3  loss :  2.2541074752807617\n",
      "client i :  4  loss :  2.305490255355835\n",
      "0-th round: average train loss 2.06 | average test loss -1.11 | average test acc: 0.227\n",
      "client i :  0  loss :  2.3289525508880615\n",
      "client i :  1  loss :  1.8467363119125366\n",
      "client i :  2  loss :  2.159747838973999\n",
      "client i :  3  loss :  2.6263694763183594\n",
      "client i :  4  loss :  1.5973689556121826\n",
      "1-th round: average train loss 2.11 | average test loss -1.1 | average test acc: 0.223\n",
      "client i :  0  loss :  1.6142537593841553\n",
      "client i :  1  loss :  1.8455986976623535\n",
      "client i :  2  loss :  1.6730669736862183\n",
      "client i :  3  loss :  1.677009105682373\n",
      "client i :  4  loss :  1.5675108432769775\n",
      "2-th round: average train loss 1.68 | average test loss -1.53 | average test acc: 0.232\n",
      "client i :  0  loss :  1.1045231819152832\n",
      "client i :  1  loss :  1.1039862632751465\n",
      "client i :  2  loss :  1.6076734066009521\n",
      "client i :  3  loss :  0.693857729434967\n",
      "client i :  4  loss :  1.228401780128479\n",
      "3-th round: average train loss 1.15 | average test loss -2.07 | average test acc: 0.296\n",
      "client i :  0  loss :  0.7085242867469788\n",
      "client i :  1  loss :  0.3982626497745514\n",
      "client i :  2  loss :  0.7314614057540894\n",
      "client i :  3  loss :  0.3737393915653229\n",
      "client i :  4  loss :  0.6820206046104431\n",
      "4-th round: average train loss 0.579 | average test loss -2.55 | average test acc: 0.318\n",
      "client i :  0  loss :  0.12327598035335541\n",
      "client i :  1  loss :  0.3411528170108795\n",
      "client i :  2  loss :  0.3800274431705475\n",
      "client i :  3  loss :  0.2099197804927826\n",
      "client i :  4  loss :  0.1377810388803482\n",
      "5-th round: average train loss 0.238 | average test loss -2.85 | average test acc: 0.353\n",
      "client i :  0  loss :  0.05999577417969704\n",
      "client i :  1  loss :  0.4614209532737732\n",
      "client i :  2  loss :  0.2966650724411011\n",
      "client i :  3  loss :  0.06819756329059601\n",
      "client i :  4  loss :  0.14391297101974487\n",
      "6-th round: average train loss 0.206 | average test loss -3.07 | average test acc: 0.381\n",
      "client i :  0  loss :  0.05541133135557175\n",
      "client i :  1  loss :  0.001159784966148436\n",
      "client i :  2  loss :  0.014867753721773624\n",
      "client i :  3  loss :  0.23725959658622742\n",
      "client i :  4  loss :  0.5429781675338745\n",
      "7-th round: average train loss 0.17 | average test loss -3.33 | average test acc: 0.397\n",
      "client i :  0  loss :  0.008562539704144001\n",
      "client i :  1  loss :  0.023727882653474808\n",
      "client i :  2  loss :  0.04296085983514786\n",
      "client i :  3  loss :  0.15383584797382355\n",
      "client i :  4  loss :  0.11032804101705551\n",
      "8-th round: average train loss 0.0679 | average test loss -3.41 | average test acc: 0.411\n",
      "client i :  0  loss :  0.004647352732717991\n",
      "client i :  1  loss :  0.10212156176567078\n",
      "client i :  2  loss :  0.07900714129209518\n",
      "client i :  3  loss :  0.11648458987474442\n",
      "client i :  4  loss :  0.09397265315055847\n",
      "9-th round: average train loss 0.0792 | average test loss -3.61 | average test acc: 0.414\n",
      "client i :  0  loss :  0.005702898371964693\n",
      "client i :  1  loss :  0.005545869003981352\n",
      "client i :  2  loss :  0.013968677259981632\n",
      "client i :  3  loss :  0.005632102023810148\n",
      "client i :  4  loss :  0.009420552290976048\n",
      "10-th round: average train loss 0.00805 | average test loss -3.96 | average test acc: 0.432\n",
      "client i :  0  loss :  0.17152036726474762\n",
      "client i :  1  loss :  0.1294749230146408\n",
      "client i :  2  loss :  0.0915491059422493\n",
      "client i :  3  loss :  0.01990177482366562\n",
      "client i :  4  loss :  0.002963270992040634\n",
      "11-th round: average train loss 0.0831 | average test loss -3.95 | average test acc: 0.427\n",
      "client i :  0  loss :  0.0035235611721873283\n",
      "client i :  1  loss :  0.009732812643051147\n",
      "client i :  2  loss :  0.004719314631074667\n",
      "client i :  3  loss :  0.0009475300903432071\n",
      "client i :  4  loss :  0.04679315909743309\n",
      "12-th round: average train loss 0.0131 | average test loss -4.34 | average test acc: 0.454\n",
      "client i :  0  loss :  0.09831379354000092\n",
      "client i :  1  loss :  0.0007757721468806267\n",
      "client i :  2  loss :  0.005134477745741606\n",
      "client i :  3  loss :  0.0011560952989384532\n",
      "client i :  4  loss :  0.00151269999332726\n",
      "13-th round: average train loss 0.0214 | average test loss -4.78 | average test acc: 0.463\n",
      "client i :  0  loss :  0.0008452768088318408\n",
      "client i :  1  loss :  0.026655036956071854\n",
      "client i :  2  loss :  0.0009650750434957445\n",
      "client i :  3  loss :  0.0014660756569355726\n",
      "client i :  4  loss :  0.47518667578697205\n",
      "14-th round: average train loss 0.101 | average test loss -4.85 | average test acc: 0.451\n",
      "client i :  0  loss :  0.003428246360272169\n",
      "client i :  1  loss :  0.0006685080006718636\n",
      "client i :  2  loss :  0.0012545044301077724\n",
      "client i :  3  loss :  0.2796204388141632\n",
      "client i :  4  loss :  0.00025057149468921125\n",
      "15-th round: average train loss 0.057 | average test loss -4.87 | average test acc: 0.462\n",
      "client i :  0  loss :  0.0003488540824037045\n",
      "client i :  1  loss :  0.0004259637789800763\n",
      "client i :  2  loss :  0.5070269107818604\n",
      "client i :  3  loss :  0.1565096229314804\n",
      "client i :  4  loss :  0.004218326881527901\n",
      "16-th round: average train loss 0.134 | average test loss -4.57 | average test acc: 0.434\n",
      "client i :  0  loss :  0.00036623573396354914\n",
      "client i :  1  loss :  0.01773892715573311\n",
      "client i :  2  loss :  0.0004906121175736189\n",
      "client i :  3  loss :  0.0009358880342915654\n",
      "client i :  4  loss :  0.00036974024260416627\n",
      "17-th round: average train loss 0.00398 | average test loss -5.09 | average test acc: 0.486\n",
      "client i :  0  loss :  0.0009570318507030606\n",
      "client i :  1  loss :  0.00027448913897387683\n",
      "client i :  2  loss :  0.0004497725167311728\n",
      "client i :  3  loss :  0.0003466558991931379\n",
      "client i :  4  loss :  0.0009015187970362604\n",
      "18-th round: average train loss 0.000586 | average test loss -5.41 | average test acc: 0.498\n",
      "client i :  0  loss :  0.0003958478046115488\n",
      "client i :  1  loss :  0.008505896665155888\n",
      "client i :  2  loss :  0.0006817799294367433\n",
      "client i :  3  loss :  0.0002894541248679161\n",
      "client i :  4  loss :  8.267187513411045e-05\n",
      "19-th round: average train loss 0.00199 | average test loss -5.32 | average test acc: 0.481\n",
      "client i :  0  loss :  0.0008123107254505157\n",
      "client i :  1  loss :  9.990933176595718e-05\n",
      "client i :  2  loss :  0.00023814075393602252\n",
      "client i :  3  loss :  0.00034928679815493524\n",
      "client i :  4  loss :  0.0021911985240876675\n",
      "20-th round: average train loss 0.000738 | average test loss -5.63 | average test acc: 0.499\n"
     ]
    },
    {
     "ename": "KeyboardInterrupt",
     "evalue": "",
     "output_type": "error",
     "traceback": [
      "\u001b[1;31m---------------------------------------------------------------------------\u001b[0m",
      "\u001b[1;31mKeyboardInterrupt\u001b[0m                         Traceback (most recent call last)",
      "\u001b[1;32mc:\\Users\\dmgtr\\chocoEA\\impl\\TCT.ipynb Cell 25\u001b[0m line \u001b[0;36m1\n\u001b[0;32m      <a href='vscode-notebook-cell:/c%3A/Users/dmgtr/chocoEA/impl/TCT.ipynb#X32sZmlsZQ%3D%3D?line=7'>8</a>\u001b[0m loss \u001b[39m=\u001b[39m \u001b[39m0\u001b[39m\n\u001b[0;32m      <a href='vscode-notebook-cell:/c%3A/Users/dmgtr/chocoEA/impl/TCT.ipynb#X32sZmlsZQ%3D%3D?line=8'>9</a>\u001b[0m \u001b[39mfor\u001b[39;00m i \u001b[39min\u001b[39;00m \u001b[39mrange\u001b[39m(num_clients):\n\u001b[1;32m---> <a href='vscode-notebook-cell:/c%3A/Users/dmgtr/chocoEA/impl/TCT.ipynb#X32sZmlsZQ%3D%3D?line=9'>10</a>\u001b[0m     local_loss \u001b[39m=\u001b[39m client_update(client_models[i], opt[i], train_loader[i], epoch\u001b[39m=\u001b[39;49mepochs_stage1)\n\u001b[0;32m     <a href='vscode-notebook-cell:/c%3A/Users/dmgtr/chocoEA/impl/TCT.ipynb#X32sZmlsZQ%3D%3D?line=10'>11</a>\u001b[0m     \u001b[39mprint\u001b[39m(\u001b[39m\"\u001b[39m\u001b[39mclient i : \u001b[39m\u001b[39m\"\u001b[39m, i, \u001b[39m\"\u001b[39m\u001b[39m loss : \u001b[39m\u001b[39m\"\u001b[39m, local_loss)\n\u001b[0;32m     <a href='vscode-notebook-cell:/c%3A/Users/dmgtr/chocoEA/impl/TCT.ipynb#X32sZmlsZQ%3D%3D?line=11'>12</a>\u001b[0m     loss \u001b[39m+\u001b[39m\u001b[39m=\u001b[39m local_loss\n",
      "File \u001b[1;32mc:\\Users\\dmgtr\\chocoEA\\nv_orga\\FedAvg.py:18\u001b[0m, in \u001b[0;36mclient_update\u001b[1;34m(client_model, optimizer, train_loader, epoch)\u001b[0m\n\u001b[0;32m     16\u001b[0m         \u001b[39m#loss = F.nll_loss(output, target)\u001b[39;00m\n\u001b[0;32m     17\u001b[0m         loss \u001b[39m=\u001b[39m criterion(output, target)\n\u001b[1;32m---> 18\u001b[0m         loss\u001b[39m.\u001b[39;49mbackward()\n\u001b[0;32m     19\u001b[0m         optimizer\u001b[39m.\u001b[39mstep()\n\u001b[0;32m     20\u001b[0m \u001b[39mreturn\u001b[39;00m loss\u001b[39m.\u001b[39mitem()\n",
      "File \u001b[1;32mc:\\Users\\dmgtr\\AppData\\Local\\Programs\\Python\\Python311\\Lib\\site-packages\\torch\\_tensor.py:492\u001b[0m, in \u001b[0;36mTensor.backward\u001b[1;34m(self, gradient, retain_graph, create_graph, inputs)\u001b[0m\n\u001b[0;32m    482\u001b[0m \u001b[39mif\u001b[39;00m has_torch_function_unary(\u001b[39mself\u001b[39m):\n\u001b[0;32m    483\u001b[0m     \u001b[39mreturn\u001b[39;00m handle_torch_function(\n\u001b[0;32m    484\u001b[0m         Tensor\u001b[39m.\u001b[39mbackward,\n\u001b[0;32m    485\u001b[0m         (\u001b[39mself\u001b[39m,),\n\u001b[1;32m   (...)\u001b[0m\n\u001b[0;32m    490\u001b[0m         inputs\u001b[39m=\u001b[39minputs,\n\u001b[0;32m    491\u001b[0m     )\n\u001b[1;32m--> 492\u001b[0m torch\u001b[39m.\u001b[39;49mautograd\u001b[39m.\u001b[39;49mbackward(\n\u001b[0;32m    493\u001b[0m     \u001b[39mself\u001b[39;49m, gradient, retain_graph, create_graph, inputs\u001b[39m=\u001b[39;49minputs\n\u001b[0;32m    494\u001b[0m )\n",
      "File \u001b[1;32mc:\\Users\\dmgtr\\AppData\\Local\\Programs\\Python\\Python311\\Lib\\site-packages\\torch\\autograd\\__init__.py:251\u001b[0m, in \u001b[0;36mbackward\u001b[1;34m(tensors, grad_tensors, retain_graph, create_graph, grad_variables, inputs)\u001b[0m\n\u001b[0;32m    246\u001b[0m     retain_graph \u001b[39m=\u001b[39m create_graph\n\u001b[0;32m    248\u001b[0m \u001b[39m# The reason we repeat the same comment below is that\u001b[39;00m\n\u001b[0;32m    249\u001b[0m \u001b[39m# some Python versions print out the first line of a multi-line function\u001b[39;00m\n\u001b[0;32m    250\u001b[0m \u001b[39m# calls in the traceback and some print out the last line\u001b[39;00m\n\u001b[1;32m--> 251\u001b[0m Variable\u001b[39m.\u001b[39;49m_execution_engine\u001b[39m.\u001b[39;49mrun_backward(  \u001b[39m# Calls into the C++ engine to run the backward pass\u001b[39;49;00m\n\u001b[0;32m    252\u001b[0m     tensors,\n\u001b[0;32m    253\u001b[0m     grad_tensors_,\n\u001b[0;32m    254\u001b[0m     retain_graph,\n\u001b[0;32m    255\u001b[0m     create_graph,\n\u001b[0;32m    256\u001b[0m     inputs,\n\u001b[0;32m    257\u001b[0m     allow_unreachable\u001b[39m=\u001b[39;49m\u001b[39mTrue\u001b[39;49;00m,\n\u001b[0;32m    258\u001b[0m     accumulate_grad\u001b[39m=\u001b[39;49m\u001b[39mTrue\u001b[39;49;00m,\n\u001b[0;32m    259\u001b[0m )\n",
      "\u001b[1;31mKeyboardInterrupt\u001b[0m: "
     ]
    }
   ],
   "source": [
    "# Run TCT-Stage1 (i.e., FedAvg)\n",
    "for r in range(num_rounds_stage1):\n",
    "    # load global weights\n",
    "    for model in client_models:\n",
    "        model.load_state_dict(global_model.state_dict())\n",
    "\n",
    "    # client update\n",
    "    loss = 0\n",
    "    for i in range(num_clients):\n",
    "        local_loss = client_update(client_models[i], opt[i], train_loader[i], epoch=epochs_stage1)\n",
    "        print(\"client i : \", i, \" loss : \", local_loss)\n",
    "        loss += local_loss\n",
    "\n",
    "    # average params across neighbors\n",
    "    average_models(global_model, client_models)\n",
    "\n",
    "    # evaluate\n",
    "    test_losses, accuracies = evaluate_many_models(client_models, test_loader)\n",
    "    torch.save(client_models[0].state_dict(), 'data/ckpt_stage1/model_tct_stage1.pth')\n",
    "\n",
    "    print('%d-th round: average train loss %0.3g | average test loss %0.3g | average test acc: %0.3f' % (\n",
    "        #r, loss.float() / num_clients, test_losses.float().mean(), accuracies.float().mean()))\n",
    "        r, loss / num_clients, test_losses.mean(), accuracies.mean()))"
   ]
  },
  {
   "cell_type": "code",
   "execution_count": 17,
   "metadata": {},
   "outputs": [],
   "source": [
    "torch.save(global_model.state_dict(), 'model_tct_stage1_ResNet18_Cifar10_0.1.pth')"
   ]
  },
  {
   "cell_type": "markdown",
   "metadata": {},
   "source": [
    "## __Stage 2__"
   ]
  },
  {
   "cell_type": "markdown",
   "metadata": {},
   "source": [
    "### __hyperparamètres__"
   ]
  },
  {
   "cell_type": "code",
   "execution_count": null,
   "metadata": {},
   "outputs": [],
   "source": [
    "num_rounds_stage2 = args[\"rounds_stage2\"]\n",
    "batch_size = args[\"num_samples_per_client\"]"
   ]
  },
  {
   "cell_type": "markdown",
   "metadata": {},
   "source": [
    "### __modèle eNTK__"
   ]
  },
  {
   "cell_type": "code",
   "execution_count": null,
   "metadata": {},
   "outputs": [],
   "source": [
    "# Init and load model ckpt\n",
    "global_model = Net_eNTK() #supprimer .cuda()\n",
    "global_model = ResNet18() #supprimer .cuda()\n",
    "\n",
    "global_model.load_state_dict(torch.load(r'data/ckpt_stage1/model_tct_stage1.pth'))\n",
    "#global_model.fc2 = nn.Linear(128, 1) #supprimer .cuda() #récupérer une unique sortie ici #supprimer le dernier layer pour le remplacer (passer de 128->10 à 128->1)\n",
    "\n",
    "global_model.load_state_dict(torch.load(r'C:\\Users\\dmgtr\\chocoEA\\ResNet18_stage1.pth'))\n",
    "global_model.fc = nn.Linear(512, 1) #supprimer .cuda() #récupérer une unique sortie ici #supprimer le dernier layer pour le remplacer (passer de 128->10 à 128->1)\n",
    "\n",
    "print('load model')"
   ]
  },
  {
   "cell_type": "code",
   "execution_count": null,
   "metadata": {},
   "outputs": [],
   "source": [
    "model18 = ResNet18()\n",
    "model14 = ResNet14()\n",
    "\n",
    "model18.load_state_dict(torch.load(r'C:\\Users\\dmgtr\\chocoEA\\ResNet18_stage1.pth'))"
   ]
  },
  {
   "cell_type": "code",
   "execution_count": null,
   "metadata": {},
   "outputs": [],
   "source": [
    "# Transfert des poids des couches convolutives et des BatchNorm2d\n",
    "\n",
    "# Conv1\n",
    "model14.conv1.weight.data = model18.conv1.weight.data.clone()\n",
    "model14.bn1.weight.data = model18.bn1.weight.data.clone()\n",
    "model14.bn1.bias.data = model18.bn1.bias.data.clone()\n",
    "model14.bn1.running_mean = model18.bn1.running_mean.clone()\n",
    "model14.bn1.running_var = model18.bn1.running_var.clone()\n",
    "\n",
    "# Layer1\n",
    "for i in range(2):\n",
    "    model14.layer1[i].conv1.weight.data = model18.layer1[i].conv1.weight.data.clone()\n",
    "    model14.layer1[i].bn1.weight.data = model18.layer1[i].bn1.weight.data.clone()\n",
    "    model14.layer1[i].bn1.bias.data = model18.layer1[i].bn1.bias.data.clone()\n",
    "    model14.layer1[i].bn1.running_mean = model18.layer1[i].bn1.running_mean.clone()\n",
    "    model14.layer1[i].bn1.running_var = model18.layer1[i].bn1.running_var.clone()\n",
    "\n",
    "    model14.layer1[i].conv2.weight.data = model18.layer1[i].conv2.weight.data.clone()\n",
    "    model14.layer1[i].bn2.weight.data = model18.layer1[i].bn2.weight.data.clone()\n",
    "    model14.layer1[i].bn2.bias.data = model18.layer1[i].bn2.bias.data.clone()\n",
    "    model14.layer1[i].bn2.running_mean = model18.layer1[i].bn2.running_mean.clone()\n",
    "    model14.layer1[i].bn2.running_var = model18.layer1[i].bn2.running_var.clone()\n",
    "\n",
    "for i in range(2):\n",
    "    model14.layer2[i].conv1.weight.data = model18.layer2[i].conv1.weight.data.clone()\n",
    "    model14.layer2[i].bn1.weight.data = model18.layer2[i].bn1.weight.data.clone()\n",
    "    model14.layer2[i].bn1.bias.data = model18.layer2[i].bn1.bias.data.clone()\n",
    "    model14.layer2[i].bn1.running_mean = model18.layer2[i].bn1.running_mean.clone()\n",
    "    model14.layer2[i].bn1.running_var = model18.layer2[i].bn1.running_var.clone()\n",
    "\n",
    "    model14.layer2[i].conv2.weight.data = model18.layer2[i].conv2.weight.data.clone()\n",
    "    model14.layer2[i].bn2.weight.data = model18.layer2[i].bn2.weight.data.clone()\n",
    "    model14.layer2[i].bn2.bias.data = model18.layer2[i].bn2.bias.data.clone()\n",
    "    model14.layer2[i].bn2.running_mean = model18.layer2[i].bn2.running_mean.clone()\n",
    "    model14.layer2[i].bn2.running_var = model18.layer2[i].bn2.running_var.clone()\n",
    "\n",
    "for i in range(2):\n",
    "    model14.layer3[i].conv1.weight.data = model18.layer3[i].conv1.weight.data.clone()\n",
    "    model14.layer3[i].bn1.weight.data = model18.layer3[i].bn1.weight.data.clone()\n",
    "    model14.layer3[i].bn1.bias.data = model18.layer3[i].bn1.bias.data.clone()\n",
    "    model14.layer3[i].bn1.running_mean = model18.layer3[i].bn1.running_mean.clone()\n",
    "    model14.layer3[i].bn1.running_var = model18.layer3[i].bn1.running_var.clone()\n",
    "\n",
    "    model14.layer3[i].conv2.weight.data = model18.layer3[i].conv2.weight.data.clone()\n",
    "    model14.layer3[i].bn2.weight.data = model18.layer3[i].bn2.weight.data.clone()\n",
    "    model14.layer3[i].bn2.bias.data = model18.layer3[i].bn2.bias.data.clone()\n",
    "    model14.layer3[i].bn2.running_mean = model18.layer3[i].bn2.running_mean.clone()\n",
    "    model14.layer3[i].bn2.running_var = model18.layer3[i].bn2.running_var.clone()\n",
    "\n",
    "\n",
    "# Layer2 et Layer3\n",
    "# Répétez un processus similaire pour layer2 et layer3 de model14 et model18\n",
    "\n",
    "# Notez que pour les couches avec downsample, vous devrez également copier ces poids si elles existent\n"
   ]
  },
  {
   "cell_type": "code",
   "execution_count": null,
   "metadata": {},
   "outputs": [],
   "source": [
    "model14.fc = nn.Linear(256, 1) #supprimer .cuda() #récupérer une unique sortie ici #supprimer le dernier layer pour le remplacer (passer de 512->10 à 512->1)\n",
    "global_model = model14"
   ]
  },
  {
   "cell_type": "markdown",
   "metadata": {},
   "source": [
    "### __Compute eNTK__"
   ]
  },
  {
   "cell_type": "code",
   "execution_count": null,
   "metadata": {},
   "outputs": [],
   "source": [
    "# Train\n",
    "grad_all = []\n",
    "target_all = []\n",
    "target_onehot_all = []\n",
    "for i in range(num_clients):\n",
    "    # Modify the batch size in the training data loader to match the model's batch size\n",
    "    train_loader[i] = torch.utils.data.DataLoader(traindata_split[i], batch_size=batch_size_stage1, shuffle=True)\n",
    "    \n",
    "    grad_i, target_onehot_i, target_i = client_compute_eNTK(global_model, train_loader[i])\n",
    "    grad_all.append(copy.deepcopy(grad_i).cpu())\n",
    "    target_all.append(copy.deepcopy(target_i).cpu())\n",
    "    target_onehot_all.append(copy.deepcopy(target_onehot_i).cpu())\n",
    "    del grad_i\n",
    "    del target_onehot_i\n",
    "    del target_i\n",
    "    torch.cuda.empty_cache()"
   ]
  },
  {
   "cell_type": "code",
   "execution_count": null,
   "metadata": {},
   "outputs": [],
   "source": [
    "# Test\n",
    "grad_eval, target_eval_onehot, target_eval  = client_compute_eNTK(global_model, test_loader)"
   ]
  },
  {
   "cell_type": "markdown",
   "metadata": {},
   "source": [
    "### __run stage 2__"
   ]
  },
  {
   "cell_type": "code",
   "execution_count": null,
   "metadata": {},
   "outputs": [],
   "source": [
    "# Init linear models\n",
    "theta_global = torch.zeros(100000, 10) #supprimer .cuda()\n",
    "\n",
    "client_thetas = [torch.zeros_like(theta_global) for _ in range(num_clients)] #supprimer .cuda()\n",
    "client_hi_s = [torch.zeros_like(theta_global) for _ in range(num_clients)] #supprimer .cuda()"
   ]
  },
  {
   "cell_type": "markdown",
   "metadata": {},
   "source": [
    "__prendre pour theta initial la valeur des paramètres du modèle -> échec__"
   ]
  },
  {
   "cell_type": "code",
   "execution_count": null,
   "metadata": {},
   "outputs": [],
   "source": [
    "#seed = args['seed']\n",
    "#subsample_size = 100000\n",
    "#torch.manual_seed(seed)\n",
    "#torch.cuda.manual_seed(seed)\n",
    "\n",
    "#n_params = sum(p.numel() for p in list(global_model.parameters()))\n",
    "#random_index = torch.randperm(n_params)[:subsample_size]\n",
    "#theta_global = torch.cat([param.flatten() for param in list(model.parameters())])[random_index]\n",
    "\n",
    "#theta_global = theta_global.view(-1, 1).repeat(1, 10)\n",
    "#client_thetas = [theta_global for _ in range(num_clients)] #supprimer .cuda()"
   ]
  },
  {
   "cell_type": "code",
   "execution_count": null,
   "metadata": {},
   "outputs": [],
   "source": [
    "# Run TCT-Stage2\n",
    "for round_idx in range(num_rounds_stage2):\n",
    "    theta_list = []\n",
    "    for i in range(num_clients):\n",
    "        theta_hat_update, h_i_client_update = scaffold_update(grad_all[i],\n",
    "                                                              target_all[i],\n",
    "                                                              client_thetas[i],\n",
    "                                                              client_hi_s[i],\n",
    "                                                              theta_global,\n",
    "                                                              M=args[\"local_steps_stage2\"],\n",
    "                                                              lr_local=args[\"local_lr_stage2\"])\n",
    "        client_hi_s[i] = h_i_client_update * 1.0\n",
    "        client_thetas[i] = theta_hat_update * 1.0\n",
    "        theta_list.append(theta_hat_update)\n",
    "\n",
    "    # averaging\n",
    "    theta_global = torch.zeros_like(theta_list[0]) #supprimer .cuda()\n",
    "    for theta_idx in range(num_clients):\n",
    "        theta_global += (1.0 / num_clients) * theta_list[theta_idx]\n",
    "\n",
    "    # eval on train\n",
    "    logits_class_train = torch.cat(grad_all) @ theta_global #supprimer .cuda()\n",
    "    _, targets_pred_train = logits_class_train.max(1)\n",
    "    train_acc = targets_pred_train.eq(torch.cat(target_all)).sum() / (1.0 * logits_class_train.shape[0]) #supprimer .cuda()\n",
    "    # eval on test\n",
    "    logits_class_test = grad_eval @ theta_global\n",
    "    _, targets_pred_test = logits_class_test.max(1)\n",
    "    test_acc = targets_pred_test.eq(target_eval).sum() / (1.0 * logits_class_test.shape[0]) #supprimer .cuda()\n",
    "    print('Round %d: train accuracy=%0.5g test accuracy=%0.5g' % (round_idx, train_acc.item(), test_acc.item()))"
   ]
  }
 ],
 "metadata": {
  "kernelspec": {
   "display_name": "Python 3",
   "language": "python",
   "name": "python3"
  },
  "language_info": {
   "codemirror_mode": {
    "name": "ipython",
    "version": 3
   },
   "file_extension": ".py",
   "mimetype": "text/x-python",
   "name": "python",
   "nbconvert_exporter": "python",
   "pygments_lexer": "ipython3",
   "version": "3.11.6"
  }
 },
 "nbformat": 4,
 "nbformat_minor": 2
}
