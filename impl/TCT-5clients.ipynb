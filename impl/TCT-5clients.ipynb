{
 "cells": [
  {
   "cell_type": "markdown",
   "metadata": {},
   "source": [
    "__import des librairies nécessaires__"
   ]
  },
  {
   "cell_type": "code",
   "execution_count": 1,
   "metadata": {},
   "outputs": [],
   "source": [
    "import torch\n",
    "import torch.nn as nn\n",
    "import torch.nn.functional as F\n",
    "import torch.optim as optim\n",
    "from torchvision import datasets, transforms\n",
    "import numpy as np\n",
    "from tqdm import tqdm\n",
    "import copy\n",
    "import argparse\n",
    "import os\n",
    "import sys\n",
    "#from utils import *"
   ]
  },
  {
   "cell_type": "markdown",
   "metadata": {},
   "source": [
    "__import des autres fichiers__"
   ]
  },
  {
   "cell_type": "code",
   "execution_count": 2,
   "metadata": {},
   "outputs": [
    {
     "name": "stdout",
     "output_type": "stream",
     "text": [
      "/Users/Theo/Documents/Dépots Githubs/2023/chocoEA/impl\n"
     ]
    }
   ],
   "source": [
    "print(os.getcwd())\n",
    "os.chdir('..')"
   ]
  },
  {
   "cell_type": "code",
   "execution_count": 3,
   "metadata": {},
   "outputs": [
    {
     "name": "stdout",
     "output_type": "stream",
     "text": [
      "/Users/Theo/Documents/Dépots Githubs/2023/chocoEA\n"
     ]
    }
   ],
   "source": [
    "print(os.getcwd())"
   ]
  },
  {
   "cell_type": "code",
   "execution_count": 4,
   "metadata": {},
   "outputs": [],
   "source": [
    "from nv_orga.Models import Net, Net_eNTK, ResNet18, ResNet14\n",
    "from nv_orga.FedAvg import average_models,client_update\n",
    "from nv_orga.Eval import evaluate_many_models\n",
    "from nv_orga.NTK import client_compute_eNTK\n",
    "from nv_orga.NTK import compute_eNTK\n",
    "from nv_orga.Scaffold import scaffold_update"
   ]
  },
  {
   "cell_type": "markdown",
   "metadata": {},
   "source": [
    "__définition des hyperparamètres__"
   ]
  },
  {
   "cell_type": "code",
   "execution_count": 5,
   "metadata": {},
   "outputs": [],
   "source": [
    "args = {\n",
    "    'num_client_stage12': 6,\n",
    "    'num_clients_stage3': 10,\n",
    "    'seed': 123,\n",
    "    'num_samples_per_client': 5000, #500 de base\n",
    "    'rounds_stage1': 100, #100 de base\n",
    "    'local_epochs_stage1': 1,\n",
    "    'mini_batchsize_stage1': 64,\n",
    "    'local_lr_stage1': 0.1,\n",
    "    'rounds_stage2': 30, #100 de base\n",
    "    'local_steps_stage2': 100,\n",
    "    'local_lr_stage2': 0.001,\n",
    "    #'weight_decay' : 1e-4,\n",
    "    #'momentum' : 0.9,\n",
    "    }"
   ]
  },
  {
   "cell_type": "markdown",
   "metadata": {},
   "source": [
    "__création d'un dossier de sauvegarde pour les modèles successifs du stage 1__"
   ]
  },
  {
   "cell_type": "code",
   "execution_count": 6,
   "metadata": {},
   "outputs": [],
   "source": [
    "isExist = os.path.exists('data/ckpt_stage1')\n",
    "if not isExist:\n",
    "   os.makedirs('data/ckpt_stage1')"
   ]
  },
  {
   "cell_type": "markdown",
   "metadata": {},
   "source": [
    "## __Stage 1__"
   ]
  },
  {
   "cell_type": "markdown",
   "metadata": {},
   "source": [
    "### __hyperparamètres__"
   ]
  },
  {
   "cell_type": "code",
   "execution_count": 7,
   "metadata": {},
   "outputs": [],
   "source": [
    "num_clients_stage12 = args[\"num_client_stage12\"]\n",
    "num_clients_stage3 = args[\"num_clients_stage3\"]\n",
    "num_rounds_stage1 = args[\"rounds_stage1\"]\n",
    "epochs_stage1 = args[\"local_epochs_stage1\"]\n",
    "batch_size_stage1 = args[\"mini_batchsize_stage1\"]\n",
    "lr_stage1 = args[\"local_lr_stage1\"]\n",
    "#weight_decay = args[\"weight_decay\"]\n",
    "#momentum = args[\"momentum\"]"
   ]
  },
  {
   "cell_type": "markdown",
   "metadata": {},
   "source": [
    "### __création des datasets décentralisés (ie non idd)__"
   ]
  },
  {
   "cell_type": "code",
   "execution_count": 8,
   "metadata": {},
   "outputs": [
    {
     "name": "stdout",
     "output_type": "stream",
     "text": [
      "Files already downloaded and verified\n"
     ]
    }
   ],
   "source": [
    "## load les data MNIST, les transformer en tensor et les normaliser\n",
    "#traindata = datasets.MNIST('data/data_mnist', train=True, download=True,\n",
    "                            #transform=transforms.Compose([transforms.ToTensor(),\n",
    "                                                            #transforms.Normalize((0.1307,), (0.3081,))]))\n",
    "\n",
    "## load CIFAR-10 data, transform them into tensors, and normalize\n",
    "traindata = datasets.CIFAR10('data/data_cifar10', train=True, download=True,\n",
    "                            transform=transforms.Compose([transforms.ToTensor(),\n",
    "                                                            transforms.Normalize((0.4914, 0.4822, 0.4465), (0.2470, 0.2435, 0.2616))]))\n",
    "\n",
    "targets = torch.tensor(traindata.targets)\n",
    "#target_labels = torch.stack([traindata.targets == i for i in range(10)], dim=0).int() # 10 x 60000 (one-hot qui détermine la label correpondant à la ligne)\n",
    "target_labels = torch.stack([targets == i for i in range(10)], dim=0).int()\n"
   ]
  },
  {
   "cell_type": "code",
   "execution_count": 9,
   "metadata": {},
   "outputs": [],
   "source": [
    "target_labels_split = []\n",
    "\n",
    "torch.manual_seed(args[\"seed\"]) # pour que les splits soient les mêmes à chaque fois\n",
    "torch.cuda.manual_seed(args[\"seed\"])  # pour que les splits soient les mêmes à chaque fois\n",
    "\n",
    "for i in range(num_clients_stage3):\n",
    "    #index_split = torch.where(target_labels[(2 * i):(2 * (i + 1))].sum(0))[0] # on prend les labels 2i et 2i+1\n",
    "    index_split = torch.where(target_labels[0:10].sum(0))[0] # on prend les labels 2i et 2i+1\n",
    "    perm_split = torch.randperm(index_split.size(0)) # on mélange les indices\n",
    "    index_split_subsample = index_split[perm_split[:args[\"num_samples_per_client\"]]] \n",
    "    target_labels_split += [index_split_subsample] # on ajoute à la liste des labels splités\n",
    "\n",
    "#Chacun des 5 clients reçoit num_samples_per_client images d'un des deux labels associés"
   ]
  },
  {
   "cell_type": "code",
   "execution_count": 10,
   "metadata": {},
   "outputs": [],
   "source": [
    "torch.manual_seed(args[\"seed\"]) # pour que les splits soient les mêmes à chaque fois\n",
    "torch.cuda.manual_seed(args[\"seed\"])  # pour que les splits soient les mêmes à chaque fois\n",
    "\n",
    "label_indexes = []\n",
    "for i in range(10):\n",
    "    indexes = torch.where(target_labels[i])[0]\n",
    "    permuted_indexes = torch.randperm(len(indexes))\n",
    "    half_length = len(indexes) // 2\n",
    "    indexes_first_half = permuted_indexes[:half_length].tolist()\n",
    "    indexes_second_half = permuted_indexes[half_length:].tolist()\n",
    "\n",
    "    label_indexes.append(indexes_first_half)\n",
    "    label_indexes.append(indexes_second_half)\n",
    "\n",
    "\n",
    "list_repartition = [[4, 16], [2, 6], [0, 8], [10, 18], [3, 5], [1, 7], [9, 19], [11, 14], [12, 17], [13, 15]]\n",
    "target_labels_split = []\n",
    "for i in range(num_clients_stage3) :\n",
    "        target_labels_split.append(label_indexes[list_repartition[i][0]] + label_indexes[list_repartition[i][1]])\n",
    "#label_indexes[(2*i+1)%20] + label_indexes[(2*i+2)%20]) for i in range(10)]\n"
   ]
  },
  {
   "cell_type": "code",
   "execution_count": 11,
   "metadata": {},
   "outputs": [],
   "source": [
    "# Training datasets (subsampled)\n",
    "traindata_split = [torch.utils.data.Subset(traindata, tl) for tl in target_labels_split] # chaque élément contient les images et labels d'un client\n",
    "train_loader = [torch.utils.data.DataLoader(train_subset, batch_size=batch_size_stage1, shuffle=True)\n",
    "                for train_subset in traindata_split] # on crée les dataloader associés"
   ]
  },
  {
   "cell_type": "markdown",
   "metadata": {},
   "source": [
    "### __création du dataset global de test__"
   ]
  },
  {
   "cell_type": "code",
   "execution_count": 12,
   "metadata": {},
   "outputs": [],
   "source": [
    "# Test dataset (subsampled)\n",
    "#testdata = datasets.MNIST('data/data_mnist', train=False,\n",
    "#                          transform=transforms.Compose([transforms.ToTensor(),\n",
    "#                                                        transforms.Normalize((0.1307,), (0.3081,))])) # on charge les données de test\n",
    "\n",
    "\n",
    "#torch.manual_seed(args[\"seed\"])\n",
    "#torch.cuda.manual_seed(args[\"seed\"])\n",
    "#perm_split_test = torch.randperm(testdata.targets.shape[0])\n",
    "#testdata_subset = torch.utils.data.Subset(testdata, perm_split_test[:1000])\n",
    "#test_loader = torch.utils.data.DataLoader(testdata_subset, batch_size=batch_size_stage1, shuffle=False) #pas de shuffle pour le test"
   ]
  },
  {
   "cell_type": "code",
   "execution_count": 13,
   "metadata": {},
   "outputs": [],
   "source": [
    "testdata = datasets.CIFAR10('data/data_cifar10', train=False,\n",
    "                            transform=transforms.Compose([transforms.ToTensor(),\n",
    "                                                            transforms.Normalize((0.4914, 0.4822, 0.4465), (0.2470, 0.2435, 0.2616))]))\n",
    "\n",
    "\n",
    "# Convertir les cibles en tenseur si nécessaire\n",
    "targets_cifar = torch.tensor(testdata.targets) if isinstance(testdata.targets, list) else testdata.targets\n",
    "\n",
    "torch.manual_seed(args[\"seed\"])\n",
    "torch.cuda.manual_seed(args[\"seed\"])\n",
    "\n",
    "# Création d'un sous-ensemble aléatoire pour CIFAR10\n",
    "perm_split_test = torch.randperm(targets_cifar.shape[0])\n",
    "testdata_subset = torch.utils.data.Subset(testdata, perm_split_test[:1000]) # on prend 1000 images\n",
    "test_loader = torch.utils.data.DataLoader(testdata_subset, batch_size=batch_size_stage1, shuffle=False)"
   ]
  },
  {
   "cell_type": "markdown",
   "metadata": {},
   "source": [
    "### __modèle de réseau de neurones de base__"
   ]
  },
  {
   "cell_type": "code",
   "execution_count": 14,
   "metadata": {},
   "outputs": [],
   "source": [
    "device = torch.device('cuda' if torch.cuda.is_available() else 'cpu')\n",
    "\n",
    "global_model = ResNet18().to(device) #modifié depuis Net().cuda() #Modèle fédéré\n",
    "client_models = [ResNet18().to(device) for _ in range(num_clients_stage3)] #modifié depuis Net().cuda() #Modèles des clients\n",
    "for model in client_models:\n",
    "    model.load_state_dict(global_model.state_dict())\n",
    "\n",
    "opt = [optim.SGD(model.parameters(), lr=lr_stage1) for model in client_models]\n",
    "#opt = [optim.SGD(model.parameters(), lr=lr_stage1, weight_decay=weight_decay, momentum=momentum) for model in client_models]"
   ]
  },
  {
   "cell_type": "code",
   "execution_count": 15,
   "metadata": {},
   "outputs": [],
   "source": [
    "#torch.save(global_model.state_dict(), 'model_tct_stage1_ResNet18_Cifar10_round' + str(0) + '.pth')"
   ]
  },
  {
   "cell_type": "markdown",
   "metadata": {},
   "source": [
    "### __imple de FedAvg__"
   ]
  },
  {
   "cell_type": "code",
   "execution_count": 16,
   "metadata": {},
   "outputs": [
    {
     "name": "stdout",
     "output_type": "stream",
     "text": [
      "client i :  0  loss :  1.704675555229187\n",
      "client i :  1  loss :  3.390143871307373\n",
      "client i :  2  loss :  1.6970223188400269\n",
      "client i :  3  loss :  1.6073137521743774\n",
      "client i :  4  loss :  2.317564010620117\n",
      "client i :  5  loss :  1.7616653442382812\n",
      "1-th round: average train loss 2.08 | average test loss 0.0792 | average test acc: 0.186\n",
      "After update round  1  :  model saved as :  data/baseline_model/model_tct_stage1_ResNet18_Cifar10_round1_6clients.pth\n",
      "client i :  0  loss :  0.7888878583908081\n",
      "client i :  1  loss :  1.6360834836959839\n",
      "client i :  2  loss :  1.3752044439315796\n",
      "client i :  3  loss :  2.701432228088379\n",
      "client i :  4  loss :  1.91657292842865\n",
      "client i :  5  loss :  1.6004416942596436\n",
      "2-th round: average train loss 1.67 | average test loss 0.116 | average test acc: 0.186\n",
      "client i :  0  loss :  1.5662591457366943\n",
      "client i :  1  loss :  1.8136359453201294\n",
      "client i :  2  loss :  2.045339584350586\n",
      "client i :  3  loss :  0.8269702196121216\n",
      "client i :  4  loss :  2.187042474746704\n",
      "client i :  5  loss :  1.142364501953125\n",
      "3-th round: average train loss 1.6 | average test loss 0.0834 | average test acc: 0.193\n",
      "After update round  3  :  model saved as :  data/baseline_model/model_tct_stage1_ResNet18_Cifar10_round3_6clients.pth\n",
      "client i :  0  loss :  0.7387633323669434\n",
      "client i :  1  loss :  3.288003921508789\n",
      "client i :  2  loss :  1.589589238166809\n",
      "client i :  3  loss :  1.7362221479415894\n",
      "client i :  4  loss :  1.161002278327942\n",
      "client i :  5  loss :  1.0125832557678223\n",
      "4-th round: average train loss 1.59 | average test loss 0.38 | average test acc: 0.204\n",
      "client i :  0  loss :  2.188372850418091\n",
      "client i :  1  loss :  1.5728832483291626\n",
      "client i :  2  loss :  1.3479650020599365\n",
      "client i :  3  loss :  1.2678145170211792\n",
      "client i :  4  loss :  0.6980056762695312\n",
      "client i :  5  loss :  1.684169054031372\n",
      "5-th round: average train loss 1.46 | average test loss 0.0909 | average test acc: 0.190\n",
      "After update round  5  :  model saved as :  data/baseline_model/model_tct_stage1_ResNet18_Cifar10_round5_6clients.pth\n",
      "client i :  0  loss :  2.6520655155181885\n",
      "client i :  1  loss :  0.9656124114990234\n",
      "client i :  2  loss :  0.5211505889892578\n",
      "client i :  3  loss :  0.8086611032485962\n",
      "client i :  4  loss :  0.46713876724243164\n",
      "client i :  5  loss :  1.4940458536148071\n",
      "6-th round: average train loss 1.15 | average test loss 0.571 | average test acc: 0.228\n",
      "client i :  0  loss :  0.9059627652168274\n",
      "client i :  1  loss :  0.7512311339378357\n",
      "client i :  2  loss :  1.1582491397857666\n",
      "client i :  3  loss :  1.2623523473739624\n",
      "client i :  4  loss :  0.7788203358650208\n",
      "client i :  5  loss :  1.2641596794128418\n",
      "7-th round: average train loss 1.02 | average test loss 0.111 | average test acc: 0.217\n",
      "After update round  7  :  model saved as :  data/baseline_model/model_tct_stage1_ResNet18_Cifar10_round7_6clients.pth\n",
      "client i :  0  loss :  0.3934020698070526\n",
      "client i :  1  loss :  1.5472670793533325\n",
      "client i :  2  loss :  0.5133903622627258\n",
      "client i :  3  loss :  2.035071849822998\n",
      "client i :  4  loss :  1.8947194814682007\n",
      "client i :  5  loss :  1.396355152130127\n",
      "8-th round: average train loss 1.3 | average test loss 0.109 | average test acc: 0.179\n",
      "client i :  0  loss :  1.75444495677948\n",
      "client i :  1  loss :  1.1655415296554565\n",
      "client i :  2  loss :  0.07151831686496735\n",
      "client i :  3  loss :  0.5987138152122498\n",
      "client i :  4  loss :  0.39059463143348694\n",
      "client i :  5  loss :  0.20180726051330566\n",
      "9-th round: average train loss 0.697 | average test loss 0.809 | average test acc: 0.253\n",
      "After update round  9  :  model saved as :  data/baseline_model/model_tct_stage1_ResNet18_Cifar10_round9_6clients.pth\n",
      "client i :  0  loss :  0.8659194707870483\n",
      "client i :  1  loss :  0.5031620264053345\n",
      "client i :  2  loss :  0.5402117371559143\n",
      "client i :  3  loss :  0.41382497549057007\n",
      "client i :  4  loss :  0.12446117401123047\n",
      "client i :  5  loss :  1.891584873199463\n",
      "10-th round: average train loss 0.723 | average test loss 0.971 | average test acc: 0.280\n",
      "client i :  0  loss :  0.04131046310067177\n",
      "client i :  1  loss :  0.2453330010175705\n",
      "client i :  2  loss :  0.19962067902088165\n",
      "client i :  3  loss :  0.0022716906387358904\n",
      "client i :  4  loss :  0.12269558012485504\n",
      "client i :  5  loss :  0.011054066941142082\n",
      "11-th round: average train loss 0.104 | average test loss 0.115 | average test acc: 0.388\n",
      "After update round  11  :  model saved as :  data/baseline_model/model_tct_stage1_ResNet18_Cifar10_round11_6clients.pth\n",
      "client i :  0  loss :  0.010084008798003197\n",
      "client i :  1  loss :  0.06366381049156189\n",
      "client i :  2  loss :  0.32838431000709534\n",
      "client i :  3  loss :  0.01241946592926979\n"
     ]
    }
   ],
   "source": [
    "# Run TCT-Stage1 (i.e., FedAvg)\n",
    "for r in range(1, num_rounds_stage1+1):\n",
    "    # load global weights\n",
    "    for model in client_models:\n",
    "        model.load_state_dict(global_model.state_dict())\n",
    "\n",
    "    # client update\n",
    "    loss = 0\n",
    "    for i in range(num_clients_stage12):\n",
    "        local_loss = client_update(client_models[i], opt[i], train_loader[i], epoch=epochs_stage1)\n",
    "        print(\"client i : \", i, \" loss : \", local_loss)\n",
    "        loss += local_loss\n",
    "\n",
    "    # average params across neighbors\n",
    "    average_models(global_model, client_models[:num_clients_stage12])\n",
    "\n",
    "    # evaluate\n",
    "    test_losses, accuracies = evaluate_many_models(client_models[:num_clients_stage12], test_loader)\n",
    "    torch.save(client_models[0].state_dict(), 'data/ckpt_stage1/model_tct_stage1_6clients.pth')\n",
    "\n",
    "    print('%d-th round: average train loss %0.3g | average test loss %0.3g | average test acc: %0.3f' % (\n",
    "        #r, loss.float() / num_clients, test_losses.float().mean(), accuracies.float().mean()))\n",
    "        r, loss / num_clients_stage12, test_losses.mean(), accuracies.mean()))\n",
    "    \n",
    "    if r%2 != 0 :\n",
    "        save_file_name = 'data/baseline_model/model_tct_stage1_ResNet18_Cifar10_round' + str(r) + '_6clients.pth'\n",
    "        torch.save(global_model.state_dict(), save_file_name)\n",
    "        print(\"After update round \", r, \" : \", 'model saved as : ', save_file_name)"
   ]
  },
  {
   "cell_type": "markdown",
   "metadata": {},
   "source": [
    "## __Stage 2__"
   ]
  },
  {
   "cell_type": "markdown",
   "metadata": {},
   "source": [
    "### __hyperparamètres__"
   ]
  },
  {
   "cell_type": "code",
   "execution_count": null,
   "metadata": {},
   "outputs": [],
   "source": [
    "num_rounds_stage2 = args[\"rounds_stage2\"]\n",
    "batch_size = args[\"num_samples_per_client\"]"
   ]
  },
  {
   "cell_type": "markdown",
   "metadata": {},
   "source": [
    "### __modèle eNTK__"
   ]
  },
  {
   "cell_type": "code",
   "execution_count": null,
   "metadata": {},
   "outputs": [],
   "source": [
    "# Init and load model ckpt\n",
    "global_model = Net_eNTK() #supprimer .cuda()\n",
    "global_model = ResNet18() #supprimer .cuda()\n",
    "\n",
    "global_model.load_state_dict(torch.load(r'data/ckpt_stage1/model_tct_stage1.pth'))\n",
    "#global_model.fc2 = nn.Linear(128, 1) #supprimer .cuda() #récupérer une unique sortie ici #supprimer le dernier layer pour le remplacer (passer de 128->10 à 128->1)\n",
    "\n",
    "global_model.load_state_dict(torch.load(r'C:\\Users\\dmgtr\\chocoEA\\ResNet18_stage1.pth'))\n",
    "global_model.fc = nn.Linear(512, 1) #supprimer .cuda() #récupérer une unique sortie ici #supprimer le dernier layer pour le remplacer (passer de 128->10 à 128->1)\n",
    "\n",
    "print('load model')"
   ]
  },
  {
   "cell_type": "code",
   "execution_count": null,
   "metadata": {},
   "outputs": [],
   "source": [
    "model18 = ResNet18()\n",
    "model14 = ResNet14()\n",
    "\n",
    "model18.load_state_dict(torch.load(r'C:\\Users\\dmgtr\\chocoEA\\ResNet18_stage1.pth'))"
   ]
  },
  {
   "cell_type": "code",
   "execution_count": null,
   "metadata": {},
   "outputs": [],
   "source": [
    "# Transfert des poids des couches convolutives et des BatchNorm2d\n",
    "\n",
    "# Conv1\n",
    "model14.conv1.weight.data = model18.conv1.weight.data.clone()\n",
    "model14.bn1.weight.data = model18.bn1.weight.data.clone()\n",
    "model14.bn1.bias.data = model18.bn1.bias.data.clone()\n",
    "model14.bn1.running_mean = model18.bn1.running_mean.clone()\n",
    "model14.bn1.running_var = model18.bn1.running_var.clone()\n",
    "\n",
    "# Layer1\n",
    "for i in range(2):\n",
    "    model14.layer1[i].conv1.weight.data = model18.layer1[i].conv1.weight.data.clone()\n",
    "    model14.layer1[i].bn1.weight.data = model18.layer1[i].bn1.weight.data.clone()\n",
    "    model14.layer1[i].bn1.bias.data = model18.layer1[i].bn1.bias.data.clone()\n",
    "    model14.layer1[i].bn1.running_mean = model18.layer1[i].bn1.running_mean.clone()\n",
    "    model14.layer1[i].bn1.running_var = model18.layer1[i].bn1.running_var.clone()\n",
    "\n",
    "    model14.layer1[i].conv2.weight.data = model18.layer1[i].conv2.weight.data.clone()\n",
    "    model14.layer1[i].bn2.weight.data = model18.layer1[i].bn2.weight.data.clone()\n",
    "    model14.layer1[i].bn2.bias.data = model18.layer1[i].bn2.bias.data.clone()\n",
    "    model14.layer1[i].bn2.running_mean = model18.layer1[i].bn2.running_mean.clone()\n",
    "    model14.layer1[i].bn2.running_var = model18.layer1[i].bn2.running_var.clone()\n",
    "\n",
    "for i in range(2):\n",
    "    model14.layer2[i].conv1.weight.data = model18.layer2[i].conv1.weight.data.clone()\n",
    "    model14.layer2[i].bn1.weight.data = model18.layer2[i].bn1.weight.data.clone()\n",
    "    model14.layer2[i].bn1.bias.data = model18.layer2[i].bn1.bias.data.clone()\n",
    "    model14.layer2[i].bn1.running_mean = model18.layer2[i].bn1.running_mean.clone()\n",
    "    model14.layer2[i].bn1.running_var = model18.layer2[i].bn1.running_var.clone()\n",
    "\n",
    "    model14.layer2[i].conv2.weight.data = model18.layer2[i].conv2.weight.data.clone()\n",
    "    model14.layer2[i].bn2.weight.data = model18.layer2[i].bn2.weight.data.clone()\n",
    "    model14.layer2[i].bn2.bias.data = model18.layer2[i].bn2.bias.data.clone()\n",
    "    model14.layer2[i].bn2.running_mean = model18.layer2[i].bn2.running_mean.clone()\n",
    "    model14.layer2[i].bn2.running_var = model18.layer2[i].bn2.running_var.clone()\n",
    "\n",
    "for i in range(2):\n",
    "    model14.layer3[i].conv1.weight.data = model18.layer3[i].conv1.weight.data.clone()\n",
    "    model14.layer3[i].bn1.weight.data = model18.layer3[i].bn1.weight.data.clone()\n",
    "    model14.layer3[i].bn1.bias.data = model18.layer3[i].bn1.bias.data.clone()\n",
    "    model14.layer3[i].bn1.running_mean = model18.layer3[i].bn1.running_mean.clone()\n",
    "    model14.layer3[i].bn1.running_var = model18.layer3[i].bn1.running_var.clone()\n",
    "\n",
    "    model14.layer3[i].conv2.weight.data = model18.layer3[i].conv2.weight.data.clone()\n",
    "    model14.layer3[i].bn2.weight.data = model18.layer3[i].bn2.weight.data.clone()\n",
    "    model14.layer3[i].bn2.bias.data = model18.layer3[i].bn2.bias.data.clone()\n",
    "    model14.layer3[i].bn2.running_mean = model18.layer3[i].bn2.running_mean.clone()\n",
    "    model14.layer3[i].bn2.running_var = model18.layer3[i].bn2.running_var.clone()\n",
    "\n",
    "\n",
    "# Layer2 et Layer3\n",
    "# Répétez un processus similaire pour layer2 et layer3 de model14 et model18\n",
    "\n",
    "# Notez que pour les couches avec downsample, vous devrez également copier ces poids si elles existent\n"
   ]
  },
  {
   "cell_type": "code",
   "execution_count": null,
   "metadata": {},
   "outputs": [],
   "source": [
    "model14.fc = nn.Linear(256, 1) #supprimer .cuda() #récupérer une unique sortie ici #supprimer le dernier layer pour le remplacer (passer de 512->10 à 512->1)\n",
    "global_model = model14"
   ]
  },
  {
   "cell_type": "markdown",
   "metadata": {},
   "source": [
    "### __Compute eNTK__"
   ]
  },
  {
   "cell_type": "code",
   "execution_count": null,
   "metadata": {},
   "outputs": [],
   "source": [
    "# Train\n",
    "grad_all = []\n",
    "target_all = []\n",
    "target_onehot_all = []\n",
    "for i in range(num_clients):\n",
    "    # Modify the batch size in the training data loader to match the model's batch size\n",
    "    train_loader[i] = torch.utils.data.DataLoader(traindata_split[i], batch_size=batch_size_stage1, shuffle=True)\n",
    "    \n",
    "    grad_i, target_onehot_i, target_i = client_compute_eNTK(global_model, train_loader[i])\n",
    "    grad_all.append(copy.deepcopy(grad_i).cpu())\n",
    "    target_all.append(copy.deepcopy(target_i).cpu())\n",
    "    target_onehot_all.append(copy.deepcopy(target_onehot_i).cpu())\n",
    "    del grad_i\n",
    "    del target_onehot_i\n",
    "    del target_i\n",
    "    torch.cuda.empty_cache()"
   ]
  },
  {
   "cell_type": "code",
   "execution_count": null,
   "metadata": {},
   "outputs": [],
   "source": [
    "# Test\n",
    "grad_eval, target_eval_onehot, target_eval  = client_compute_eNTK(global_model, test_loader)"
   ]
  },
  {
   "cell_type": "markdown",
   "metadata": {},
   "source": [
    "### __run stage 2__"
   ]
  },
  {
   "cell_type": "code",
   "execution_count": null,
   "metadata": {},
   "outputs": [],
   "source": [
    "# Init linear models\n",
    "theta_global = torch.zeros(100000, 10) #supprimer .cuda()\n",
    "\n",
    "client_thetas = [torch.zeros_like(theta_global) for _ in range(num_clients)] #supprimer .cuda()\n",
    "client_hi_s = [torch.zeros_like(theta_global) for _ in range(num_clients)] #supprimer .cuda()"
   ]
  },
  {
   "cell_type": "markdown",
   "metadata": {},
   "source": [
    "__prendre pour theta initial la valeur des paramètres du modèle -> échec__"
   ]
  },
  {
   "cell_type": "code",
   "execution_count": null,
   "metadata": {},
   "outputs": [],
   "source": [
    "#seed = args['seed']\n",
    "#subsample_size = 100000\n",
    "#torch.manual_seed(seed)\n",
    "#torch.cuda.manual_seed(seed)\n",
    "\n",
    "#n_params = sum(p.numel() for p in list(global_model.parameters()))\n",
    "#random_index = torch.randperm(n_params)[:subsample_size]\n",
    "#theta_global = torch.cat([param.flatten() for param in list(model.parameters())])[random_index]\n",
    "\n",
    "#theta_global = theta_global.view(-1, 1).repeat(1, 10)\n",
    "#client_thetas = [theta_global for _ in range(num_clients)] #supprimer .cuda()"
   ]
  },
  {
   "cell_type": "code",
   "execution_count": null,
   "metadata": {},
   "outputs": [],
   "source": [
    "# Run TCT-Stage2\n",
    "for round_idx in range(num_rounds_stage2):\n",
    "    theta_list = []\n",
    "    for i in range(num_clients):\n",
    "        theta_hat_update, h_i_client_update = scaffold_update(grad_all[i],\n",
    "                                                              target_all[i],\n",
    "                                                              client_thetas[i],\n",
    "                                                              client_hi_s[i],\n",
    "                                                              theta_global,\n",
    "                                                              M=args[\"local_steps_stage2\"],\n",
    "                                                              lr_local=args[\"local_lr_stage2\"])\n",
    "        client_hi_s[i] = h_i_client_update * 1.0\n",
    "        client_thetas[i] = theta_hat_update * 1.0\n",
    "        theta_list.append(theta_hat_update)\n",
    "\n",
    "    # averaging\n",
    "    theta_global = torch.zeros_like(theta_list[0]) #supprimer .cuda()\n",
    "    for theta_idx in range(num_clients):\n",
    "        theta_global += (1.0 / num_clients) * theta_list[theta_idx]\n",
    "\n",
    "    # eval on train\n",
    "    logits_class_train = torch.cat(grad_all) @ theta_global #supprimer .cuda()\n",
    "    _, targets_pred_train = logits_class_train.max(1)\n",
    "    train_acc = targets_pred_train.eq(torch.cat(target_all)).sum() / (1.0 * logits_class_train.shape[0]) #supprimer .cuda()\n",
    "    # eval on test\n",
    "    logits_class_test = grad_eval @ theta_global\n",
    "    _, targets_pred_test = logits_class_test.max(1)\n",
    "    test_acc = targets_pred_test.eq(target_eval).sum() / (1.0 * logits_class_test.shape[0]) #supprimer .cuda()\n",
    "    print('Round %d: train accuracy=%0.5g test accuracy=%0.5g' % (round_idx, train_acc.item(), test_acc.item()))"
   ]
  }
 ],
 "metadata": {
  "kernelspec": {
   "display_name": "Python 3",
   "language": "python",
   "name": "python3"
  },
  "language_info": {
   "codemirror_mode": {
    "name": "ipython",
    "version": 3
   },
   "file_extension": ".py",
   "mimetype": "text/x-python",
   "name": "python",
   "nbconvert_exporter": "python",
   "pygments_lexer": "ipython3",
   "version": "3.11.0"
  }
 },
 "nbformat": 4,
 "nbformat_minor": 2
}
