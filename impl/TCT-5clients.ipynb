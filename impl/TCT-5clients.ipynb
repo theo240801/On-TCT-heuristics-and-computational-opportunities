{
 "cells": [
  {
   "cell_type": "markdown",
   "metadata": {},
   "source": [
    "__import des librairies nécessaires__"
   ]
  },
  {
   "cell_type": "code",
   "execution_count": 1,
   "metadata": {},
   "outputs": [],
   "source": [
    "import torch\n",
    "import torch.nn as nn\n",
    "import torch.nn.functional as F\n",
    "import torch.optim as optim\n",
    "from torchvision import datasets, transforms\n",
    "import numpy as np\n",
    "from tqdm import tqdm\n",
    "import copy\n",
    "import argparse\n",
    "import os\n",
    "import sys\n",
    "#from utils import *"
   ]
  },
  {
   "cell_type": "markdown",
   "metadata": {},
   "source": [
    "__import des autres fichiers__"
   ]
  },
  {
   "cell_type": "code",
   "execution_count": 2,
   "metadata": {},
   "outputs": [
    {
     "name": "stdout",
     "output_type": "stream",
     "text": [
      "c:\\Users\\dmgtr\\chocoEA\\impl\n"
     ]
    }
   ],
   "source": [
    "print(os.getcwd())\n",
    "os.chdir('..')"
   ]
  },
  {
   "cell_type": "code",
   "execution_count": 3,
   "metadata": {},
   "outputs": [
    {
     "name": "stdout",
     "output_type": "stream",
     "text": [
      "c:\\Users\\dmgtr\\chocoEA\n"
     ]
    }
   ],
   "source": [
    "print(os.getcwd())"
   ]
  },
  {
   "cell_type": "code",
   "execution_count": 4,
   "metadata": {},
   "outputs": [],
   "source": [
    "from nv_orga.Models import Net, Net_eNTK, ResNet18, ResNet14\n",
    "from nv_orga.FedAvg import average_models,client_update\n",
    "from nv_orga.Eval import evaluate_many_models\n",
    "from nv_orga.NTK import client_compute_eNTK\n",
    "from nv_orga.NTK import compute_eNTK\n",
    "from nv_orga.Scaffold import scaffold_update"
   ]
  },
  {
   "cell_type": "markdown",
   "metadata": {},
   "source": [
    "__définition des hyperparamètres__"
   ]
  },
  {
   "cell_type": "code",
   "execution_count": 5,
   "metadata": {},
   "outputs": [],
   "source": [
    "args = {\n",
    "    'num_client': 10,\n",
    "    'seed': 123,\n",
    "    'num_samples_per_client': 5000, #500 de base\n",
    "    'rounds_stage1': 100, #100 de base\n",
    "    'local_epochs_stage1': 1,\n",
    "    'mini_batchsize_stage1': 64,\n",
    "    'local_lr_stage1': 0.1,\n",
    "    'rounds_stage2': 30, #100 de base\n",
    "    'local_steps_stage2': 100,\n",
    "    'local_lr_stage2': 0.001,\n",
    "    #'weight_decay' : 1e-4,\n",
    "    #'momentum' : 0.9,\n",
    "    }"
   ]
  },
  {
   "cell_type": "markdown",
   "metadata": {},
   "source": [
    "__création d'un dossier de sauvegarde pour les modèles successifs du stage 1__"
   ]
  },
  {
   "cell_type": "code",
   "execution_count": 6,
   "metadata": {},
   "outputs": [],
   "source": [
    "isExist = os.path.exists('data/ckpt_stage1')\n",
    "if not isExist:\n",
    "   os.makedirs('data/ckpt_stage1')"
   ]
  },
  {
   "cell_type": "markdown",
   "metadata": {},
   "source": [
    "## __Stage 1__"
   ]
  },
  {
   "cell_type": "markdown",
   "metadata": {},
   "source": [
    "### __hyperparamètres__"
   ]
  },
  {
   "cell_type": "code",
   "execution_count": 7,
   "metadata": {},
   "outputs": [],
   "source": [
    "num_clients = args[\"num_client\"]\n",
    "num_rounds_stage1 = args[\"rounds_stage1\"]\n",
    "epochs_stage1 = args[\"local_epochs_stage1\"]\n",
    "batch_size_stage1 = args[\"mini_batchsize_stage1\"]\n",
    "lr_stage1 = args[\"local_lr_stage1\"]\n",
    "#weight_decay = args[\"weight_decay\"]\n",
    "#momentum = args[\"momentum\"]"
   ]
  },
  {
   "cell_type": "markdown",
   "metadata": {},
   "source": [
    "### __création des datasets décentralisés (ie non idd)__"
   ]
  },
  {
   "cell_type": "code",
   "execution_count": 8,
   "metadata": {},
   "outputs": [
    {
     "name": "stdout",
     "output_type": "stream",
     "text": [
      "Files already downloaded and verified\n"
     ]
    }
   ],
   "source": [
    "## load les data MNIST, les transformer en tensor et les normaliser\n",
    "#traindata = datasets.MNIST('data/data_mnist', train=True, download=True,\n",
    "                            #transform=transforms.Compose([transforms.ToTensor(),\n",
    "                                                            #transforms.Normalize((0.1307,), (0.3081,))]))\n",
    "\n",
    "## load CIFAR-10 data, transform them into tensors, and normalize\n",
    "traindata = datasets.CIFAR10('data/data_cifar10', train=True, download=True,\n",
    "                            transform=transforms.Compose([transforms.ToTensor(),\n",
    "                                                            transforms.Normalize((0.4914, 0.4822, 0.4465), (0.2470, 0.2435, 0.2616))]))\n",
    "\n",
    "targets = torch.tensor(traindata.targets)\n",
    "#target_labels = torch.stack([traindata.targets == i for i in range(10)], dim=0).int() # 10 x 60000 (one-hot qui détermine la label correpondant à la ligne)\n",
    "target_labels = torch.stack([targets == i for i in range(10)], dim=0).int()\n"
   ]
  },
  {
   "cell_type": "code",
   "execution_count": 9,
   "metadata": {},
   "outputs": [],
   "source": [
    "target_labels_split = []\n",
    "\n",
    "torch.manual_seed(args[\"seed\"]) # pour que les splits soient les mêmes à chaque fois\n",
    "torch.cuda.manual_seed(args[\"seed\"])  # pour que les splits soient les mêmes à chaque fois\n",
    "\n",
    "for i in range(num_clients):\n",
    "    #index_split = torch.where(target_labels[(2 * i):(2 * (i + 1))].sum(0))[0] # on prend les labels 2i et 2i+1\n",
    "    index_split = torch.where(target_labels[0:10].sum(0))[0] # on prend les labels 2i et 2i+1\n",
    "    perm_split = torch.randperm(index_split.size(0)) # on mélange les indices\n",
    "    index_split_subsample = index_split[perm_split[:args[\"num_samples_per_client\"]]] \n",
    "    target_labels_split += [index_split_subsample] # on ajoute à la liste des labels splités\n",
    "\n",
    "#Chacun des 5 clients reçoit num_samples_per_client images d'un des deux labels associés"
   ]
  },
  {
   "cell_type": "code",
   "execution_count": 10,
   "metadata": {},
   "outputs": [],
   "source": [
    "torch.manual_seed(args[\"seed\"]) # pour que les splits soient les mêmes à chaque fois\n",
    "torch.cuda.manual_seed(args[\"seed\"])  # pour que les splits soient les mêmes à chaque fois\n",
    "\n",
    "label_indexes = []\n",
    "for i in range(num_clients):\n",
    "    indexes = torch.where(target_labels[i])[0]\n",
    "    permuted_indexes = torch.randperm(len(indexes))\n",
    "    half_length = len(indexes) // 2\n",
    "    indexes_first_half = permuted_indexes[:half_length].tolist()\n",
    "    indexes_second_half = permuted_indexes[half_length:].tolist()\n",
    "\n",
    "    label_indexes.append(indexes_first_half)\n",
    "    label_indexes.append(indexes_second_half)\n",
    "\n",
    "\n",
    "list_repartition = [[4, 16], [2, 6], [0, 8], [10, 18], [3, 5], [1, 7], [9, 19], [11, 14], [12, 17], [13, 15]]\n",
    "target_labels_split = []\n",
    "for i in range(num_clients) :\n",
    "        target_labels_split.append(label_indexes[list_repartition[i][0]] + label_indexes[list_repartition[i][1]])\n",
    "#label_indexes[(2*i+1)%20] + label_indexes[(2*i+2)%20]) for i in range(10)]\n"
   ]
  },
  {
   "cell_type": "code",
   "execution_count": 11,
   "metadata": {},
   "outputs": [],
   "source": [
    "# Training datasets (subsampled)\n",
    "traindata_split = [torch.utils.data.Subset(traindata, tl) for tl in target_labels_split] # chaque élément contient les images et labels d'un client\n",
    "train_loader = [torch.utils.data.DataLoader(train_subset, batch_size=batch_size_stage1, shuffle=True)\n",
    "                for train_subset in traindata_split] # on crée les dataloader associés"
   ]
  },
  {
   "cell_type": "markdown",
   "metadata": {},
   "source": [
    "### __création du dataset global de test__"
   ]
  },
  {
   "cell_type": "code",
   "execution_count": 12,
   "metadata": {},
   "outputs": [],
   "source": [
    "# Test dataset (subsampled)\n",
    "#testdata = datasets.MNIST('data/data_mnist', train=False,\n",
    "#                          transform=transforms.Compose([transforms.ToTensor(),\n",
    "#                                                        transforms.Normalize((0.1307,), (0.3081,))])) # on charge les données de test\n",
    "\n",
    "\n",
    "#torch.manual_seed(args[\"seed\"])\n",
    "#torch.cuda.manual_seed(args[\"seed\"])\n",
    "#perm_split_test = torch.randperm(testdata.targets.shape[0])\n",
    "#testdata_subset = torch.utils.data.Subset(testdata, perm_split_test[:1000])\n",
    "#test_loader = torch.utils.data.DataLoader(testdata_subset, batch_size=batch_size_stage1, shuffle=False) #pas de shuffle pour le test"
   ]
  },
  {
   "cell_type": "code",
   "execution_count": 12,
   "metadata": {},
   "outputs": [],
   "source": [
    "testdata = datasets.CIFAR10('data/data_cifar10', train=False,\n",
    "                            transform=transforms.Compose([transforms.ToTensor(),\n",
    "                                                            transforms.Normalize((0.4914, 0.4822, 0.4465), (0.2470, 0.2435, 0.2616))]))\n",
    "\n",
    "\n",
    "# Convertir les cibles en tenseur si nécessaire\n",
    "targets_cifar = torch.tensor(testdata.targets) if isinstance(testdata.targets, list) else testdata.targets\n",
    "\n",
    "torch.manual_seed(args[\"seed\"])\n",
    "torch.cuda.manual_seed(args[\"seed\"])\n",
    "\n",
    "# Création d'un sous-ensemble aléatoire pour CIFAR10\n",
    "perm_split_test = torch.randperm(targets_cifar.shape[0])\n",
    "testdata_subset = torch.utils.data.Subset(testdata, perm_split_test[:1000]) # on prend 1000 images\n",
    "test_loader = torch.utils.data.DataLoader(testdata_subset, batch_size=batch_size_stage1, shuffle=False)"
   ]
  },
  {
   "cell_type": "markdown",
   "metadata": {},
   "source": [
    "### __modèle de réseau de neurones de base__"
   ]
  },
  {
   "cell_type": "code",
   "execution_count": 14,
   "metadata": {},
   "outputs": [],
   "source": [
    "#global_model = Net() #modifié depuis Net().cuda() #Modèle fédéré\n",
    "#client_models = [Net() for _ in range(num_clients)] #modifié depuis Net().cuda() #Modèles des clients\n",
    "#for model in client_models:\n",
    "    #model.load_state_dict(global_model.state_dict())\n",
    "#opt = [optim.SGD(model.parameters(), lr=lr_stage1) for model in client_models]"
   ]
  },
  {
   "cell_type": "code",
   "execution_count": 13,
   "metadata": {},
   "outputs": [],
   "source": [
    "device = torch.device('cuda' if torch.cuda.is_available() else 'cpu')\n",
    "\n",
    "global_model = ResNet18().to(device) #modifié depuis Net().cuda() #Modèle fédéré\n",
    "client_models = [ResNet18().to(device) for _ in range(num_clients)] #modifié depuis Net().cuda() #Modèles des clients\n",
    "for model in client_models:\n",
    "    model.load_state_dict(global_model.state_dict())\n",
    "\n",
    "opt = [optim.SGD(model.parameters(), lr=lr_stage1) for model in client_models]\n",
    "#opt = [optim.SGD(model.parameters(), lr=lr_stage1, weight_decay=weight_decay, momentum=momentum) for model in client_models]"
   ]
  },
  {
   "cell_type": "code",
   "execution_count": 16,
   "metadata": {},
   "outputs": [],
   "source": [
    "#torch.save(global_model.state_dict(), 'model_tct_stage1_ResNet18_Cifar10_round' + str(0) + '.pth')"
   ]
  },
  {
   "cell_type": "markdown",
   "metadata": {},
   "source": [
    "### __imple de FedAvg__"
   ]
  },
  {
   "cell_type": "code",
   "execution_count": 14,
   "metadata": {},
   "outputs": [
    {
     "name": "stdout",
     "output_type": "stream",
     "text": [
      "client i :  0  loss :  2.142672300338745\n",
      "client i :  1  loss :  2.721029758453369\n",
      "client i :  2  loss :  1.6187562942504883\n",
      "client i :  3  loss :  1.5698744058609009\n",
      "client i :  4  loss :  1.840576171875\n",
      "client i :  5  loss :  1.7185510396957397\n",
      "client i :  6  loss :  1.4449920654296875\n",
      "client i :  7  loss :  1.1687761545181274\n",
      "client i :  8  loss :  1.6512088775634766\n",
      "client i :  9  loss :  1.8657535314559937\n",
      "1-th round: average train loss 1.77 | average test loss 0.0871 | average test acc: 0.182\n",
      "After update round  1  :  model saved as :  data/baseline_model/model_tct_stage1_ResNet18_Cifar10_round1_10clients.pth\n",
      "client i :  0  loss :  2.1199116706848145\n",
      "client i :  1  loss :  2.487941026687622\n",
      "client i :  2  loss :  1.966052532196045\n",
      "client i :  3  loss :  2.2568204402923584\n",
      "client i :  4  loss :  1.7481472492218018\n",
      "client i :  5  loss :  1.3065383434295654\n",
      "client i :  6  loss :  1.893676519393921\n",
      "client i :  7  loss :  1.1316535472869873\n",
      "client i :  8  loss :  1.4904992580413818\n",
      "client i :  9  loss :  1.9703071117401123\n",
      "2-th round: average train loss 1.84 | average test loss 0.0881 | average test acc: 0.172\n",
      "client i :  0  loss :  1.1906256675720215\n",
      "client i :  1  loss :  1.1293270587921143\n",
      "client i :  2  loss :  1.8765525817871094\n",
      "client i :  3  loss :  2.2669715881347656\n",
      "client i :  4  loss :  1.4611750841140747\n",
      "client i :  5  loss :  1.464430332183838\n",
      "client i :  6  loss :  1.5986919403076172\n",
      "client i :  7  loss :  1.1979179382324219\n",
      "client i :  8  loss :  1.9078409671783447\n",
      "client i :  9  loss :  0.7437812685966492\n",
      "3-th round: average train loss 1.48 | average test loss 0.099 | average test acc: 0.194\n",
      "After update round  3  :  model saved as :  data/baseline_model/model_tct_stage1_ResNet18_Cifar10_round3_10clients.pth\n",
      "client i :  0  loss :  2.5150909423828125\n",
      "client i :  1  loss :  1.2107303142547607\n",
      "client i :  2  loss :  1.2850629091262817\n",
      "client i :  3  loss :  1.3325581550598145\n",
      "client i :  4  loss :  1.1284830570220947\n",
      "client i :  5  loss :  2.0962581634521484\n",
      "client i :  6  loss :  1.5442936420440674\n",
      "client i :  7  loss :  1.2674040794372559\n",
      "client i :  8  loss :  1.2395272254943848\n",
      "client i :  9  loss :  1.0482096672058105\n",
      "4-th round: average train loss 1.47 | average test loss 0.13 | average test acc: 0.225\n",
      "client i :  0  loss :  0.7909750938415527\n",
      "client i :  1  loss :  2.014334201812744\n",
      "client i :  2  loss :  2.8829009532928467\n",
      "client i :  3  loss :  0.6665573120117188\n",
      "client i :  4  loss :  1.3796753883361816\n",
      "client i :  5  loss :  0.9626057744026184\n",
      "client i :  6  loss :  2.078744888305664\n",
      "client i :  7  loss :  1.1104860305786133\n",
      "client i :  8  loss :  1.7129219770431519\n",
      "client i :  9  loss :  1.7448112964630127\n",
      "5-th round: average train loss 1.53 | average test loss 0.382 | average test acc: 0.149\n",
      "After update round  5  :  model saved as :  data/baseline_model/model_tct_stage1_ResNet18_Cifar10_round5_10clients.pth\n",
      "client i :  0  loss :  1.2556140422821045\n",
      "client i :  1  loss :  1.130277395248413\n",
      "client i :  2  loss :  0.8086726069450378\n",
      "client i :  3  loss :  0.8329114317893982\n",
      "client i :  4  loss :  0.6978883743286133\n",
      "client i :  5  loss :  0.41751378774642944\n",
      "client i :  6  loss :  0.6312007308006287\n",
      "client i :  7  loss :  1.9170889854431152\n",
      "client i :  8  loss :  0.6066553592681885\n",
      "client i :  9  loss :  1.214564323425293\n",
      "6-th round: average train loss 0.951 | average test loss 0.0877 | average test acc: 0.254\n",
      "client i :  0  loss :  0.6145709753036499\n",
      "client i :  1  loss :  0.6986412405967712\n",
      "client i :  2  loss :  1.465014100074768\n",
      "client i :  3  loss :  1.0024852752685547\n",
      "client i :  4  loss :  0.7745377421379089\n",
      "client i :  5  loss :  0.3965396583080292\n",
      "client i :  6  loss :  0.9618645906448364\n",
      "client i :  7  loss :  1.0744259357452393\n",
      "client i :  8  loss :  1.562029480934143\n",
      "client i :  9  loss :  0.822212815284729\n",
      "7-th round: average train loss 0.937 | average test loss 0.335 | average test acc: 0.224\n",
      "After update round  7  :  model saved as :  data/baseline_model/model_tct_stage1_ResNet18_Cifar10_round7_10clients.pth\n",
      "client i :  0  loss :  0.49241334199905396\n",
      "client i :  1  loss :  0.6512585878372192\n",
      "client i :  2  loss :  0.03520523011684418\n",
      "client i :  3  loss :  0.4979669153690338\n",
      "client i :  4  loss :  0.9601028561592102\n",
      "client i :  5  loss :  1.6821949481964111\n",
      "client i :  6  loss :  0.21519051492214203\n",
      "client i :  7  loss :  0.34822478890419006\n",
      "client i :  8  loss :  0.5186983346939087\n",
      "client i :  9  loss :  0.9422281980514526\n",
      "8-th round: average train loss 0.634 | average test loss 0.45 | average test acc: 0.247\n",
      "client i :  0  loss :  0.036846622824668884\n",
      "client i :  1  loss :  0.22566819190979004\n",
      "client i :  2  loss :  0.24351054430007935\n",
      "client i :  3  loss :  0.010378878563642502\n",
      "client i :  4  loss :  0.031769830733537674\n",
      "client i :  5  loss :  0.002748256316408515\n",
      "client i :  6  loss :  0.671127200126648\n",
      "client i :  7  loss :  0.28091922402381897\n",
      "client i :  8  loss :  0.056130778044462204\n",
      "client i :  9  loss :  0.28941765427589417\n",
      "9-th round: average train loss 0.185 | average test loss 0.0687 | average test acc: 0.390\n",
      "After update round  9  :  model saved as :  data/baseline_model/model_tct_stage1_ResNet18_Cifar10_round9_10clients.pth\n",
      "client i :  0  loss :  0.00462309829890728\n",
      "client i :  1  loss :  0.7077977657318115\n",
      "client i :  2  loss :  0.35049983859062195\n",
      "client i :  3  loss :  0.4330127239227295\n",
      "client i :  4  loss :  0.5567298531532288\n",
      "client i :  5  loss :  1.6879913806915283\n",
      "client i :  6  loss :  0.0027018310502171516\n",
      "client i :  7  loss :  0.681705117225647\n",
      "client i :  8  loss :  0.001057802583090961\n",
      "client i :  9  loss :  0.5310265421867371\n",
      "10-th round: average train loss 0.496 | average test loss 0.332 | average test acc: 0.285\n",
      "client i :  0  loss :  0.11279405653476715\n",
      "client i :  1  loss :  0.008562052622437477\n",
      "client i :  2  loss :  0.07934171706438065\n",
      "client i :  3  loss :  0.054037630558013916\n",
      "client i :  4  loss :  0.06535442918539047\n",
      "client i :  5  loss :  0.0779782384634018\n",
      "client i :  6  loss :  0.4885443449020386\n",
      "client i :  7  loss :  0.028502045199275017\n",
      "client i :  8  loss :  0.41171324253082275\n",
      "client i :  9  loss :  0.008535996079444885\n",
      "11-th round: average train loss 0.134 | average test loss 0.156 | average test acc: 0.396\n",
      "After update round  11  :  model saved as :  data/baseline_model/model_tct_stage1_ResNet18_Cifar10_round11_10clients.pth\n",
      "client i :  0  loss :  0.06775590777397156\n",
      "client i :  1  loss :  0.0837937742471695\n",
      "client i :  2  loss :  0.019593054428696632\n",
      "client i :  3  loss :  0.022259876132011414\n",
      "client i :  4  loss :  0.10296700894832611\n",
      "client i :  5  loss :  0.015890952199697495\n",
      "client i :  6  loss :  0.019592400640249252\n",
      "client i :  7  loss :  0.0020006848499178886\n",
      "client i :  8  loss :  0.31517142057418823\n",
      "client i :  9  loss :  0.2986854314804077\n",
      "12-th round: average train loss 0.0948 | average test loss 0.187 | average test acc: 0.467\n",
      "client i :  0  loss :  0.0008722679340280592\n",
      "client i :  1  loss :  0.0014648095238953829\n",
      "client i :  2  loss :  0.5305028557777405\n",
      "client i :  3  loss :  0.20676440000534058\n",
      "client i :  4  loss :  1.1734788417816162\n",
      "client i :  5  loss :  0.01772014982998371\n",
      "client i :  6  loss :  0.08137714117765427\n",
      "client i :  7  loss :  0.6098117828369141\n",
      "client i :  8  loss :  0.003573187394067645\n"
     ]
    }
   ],
   "source": [
    "# Run TCT-Stage1 (i.e., FedAvg)\n",
    "for r in range(1, num_rounds_stage1+1):\n",
    "    # load global weights\n",
    "    for model in client_models:\n",
    "        model.load_state_dict(global_model.state_dict())\n",
    "\n",
    "    # client update\n",
    "    loss = 0\n",
    "    for i in range(num_clients):\n",
    "        local_loss = client_update(client_models[i], opt[i], train_loader[i], epoch=epochs_stage1)\n",
    "        print(\"client i : \", i, \" loss : \", local_loss)\n",
    "        loss += local_loss\n",
    "\n",
    "    # average params across neighbors\n",
    "    average_models(global_model, client_models)\n",
    "\n",
    "    # evaluate\n",
    "    test_losses, accuracies = evaluate_many_models(client_models, test_loader)\n",
    "    torch.save(client_models[0].state_dict(), 'data/ckpt_stage1/model_tct_stage1.pth')\n",
    "\n",
    "    print('%d-th round: average train loss %0.3g | average test loss %0.3g | average test acc: %0.3f' % (\n",
    "        #r, loss.float() / num_clients, test_losses.float().mean(), accuracies.float().mean()))\n",
    "        r, loss / num_clients, test_losses.mean(), accuracies.mean()))\n",
    "    \n",
    "    if r%2 != 0 :\n",
    "        save_file_name = 'data/baseline_model/model_tct_stage1_ResNet18_Cifar10_round' + str(r) + '_10clients.pth'\n",
    "        torch.save(global_model.state_dict(), save_file_name)\n",
    "        print(\"After update round \", r, \" : \", 'model saved as : ', save_file_name)"
   ]
  },
  {
   "cell_type": "markdown",
   "metadata": {},
   "source": [
    "## __Stage 2__"
   ]
  },
  {
   "cell_type": "markdown",
   "metadata": {},
   "source": [
    "### __hyperparamètres__"
   ]
  },
  {
   "cell_type": "code",
   "execution_count": null,
   "metadata": {},
   "outputs": [],
   "source": [
    "num_rounds_stage2 = args[\"rounds_stage2\"]\n",
    "batch_size = args[\"num_samples_per_client\"]"
   ]
  },
  {
   "cell_type": "markdown",
   "metadata": {},
   "source": [
    "### __modèle eNTK__"
   ]
  },
  {
   "cell_type": "code",
   "execution_count": null,
   "metadata": {},
   "outputs": [],
   "source": [
    "# Init and load model ckpt\n",
    "global_model = Net_eNTK() #supprimer .cuda()\n",
    "global_model = ResNet18() #supprimer .cuda()\n",
    "\n",
    "global_model.load_state_dict(torch.load(r'data/ckpt_stage1/model_tct_stage1.pth'))\n",
    "#global_model.fc2 = nn.Linear(128, 1) #supprimer .cuda() #récupérer une unique sortie ici #supprimer le dernier layer pour le remplacer (passer de 128->10 à 128->1)\n",
    "\n",
    "global_model.load_state_dict(torch.load(r'C:\\Users\\dmgtr\\chocoEA\\ResNet18_stage1.pth'))\n",
    "global_model.fc = nn.Linear(512, 1) #supprimer .cuda() #récupérer une unique sortie ici #supprimer le dernier layer pour le remplacer (passer de 128->10 à 128->1)\n",
    "\n",
    "print('load model')"
   ]
  },
  {
   "cell_type": "code",
   "execution_count": null,
   "metadata": {},
   "outputs": [],
   "source": [
    "model18 = ResNet18()\n",
    "model14 = ResNet14()\n",
    "\n",
    "model18.load_state_dict(torch.load(r'C:\\Users\\dmgtr\\chocoEA\\ResNet18_stage1.pth'))"
   ]
  },
  {
   "cell_type": "code",
   "execution_count": null,
   "metadata": {},
   "outputs": [],
   "source": [
    "# Transfert des poids des couches convolutives et des BatchNorm2d\n",
    "\n",
    "# Conv1\n",
    "model14.conv1.weight.data = model18.conv1.weight.data.clone()\n",
    "model14.bn1.weight.data = model18.bn1.weight.data.clone()\n",
    "model14.bn1.bias.data = model18.bn1.bias.data.clone()\n",
    "model14.bn1.running_mean = model18.bn1.running_mean.clone()\n",
    "model14.bn1.running_var = model18.bn1.running_var.clone()\n",
    "\n",
    "# Layer1\n",
    "for i in range(2):\n",
    "    model14.layer1[i].conv1.weight.data = model18.layer1[i].conv1.weight.data.clone()\n",
    "    model14.layer1[i].bn1.weight.data = model18.layer1[i].bn1.weight.data.clone()\n",
    "    model14.layer1[i].bn1.bias.data = model18.layer1[i].bn1.bias.data.clone()\n",
    "    model14.layer1[i].bn1.running_mean = model18.layer1[i].bn1.running_mean.clone()\n",
    "    model14.layer1[i].bn1.running_var = model18.layer1[i].bn1.running_var.clone()\n",
    "\n",
    "    model14.layer1[i].conv2.weight.data = model18.layer1[i].conv2.weight.data.clone()\n",
    "    model14.layer1[i].bn2.weight.data = model18.layer1[i].bn2.weight.data.clone()\n",
    "    model14.layer1[i].bn2.bias.data = model18.layer1[i].bn2.bias.data.clone()\n",
    "    model14.layer1[i].bn2.running_mean = model18.layer1[i].bn2.running_mean.clone()\n",
    "    model14.layer1[i].bn2.running_var = model18.layer1[i].bn2.running_var.clone()\n",
    "\n",
    "for i in range(2):\n",
    "    model14.layer2[i].conv1.weight.data = model18.layer2[i].conv1.weight.data.clone()\n",
    "    model14.layer2[i].bn1.weight.data = model18.layer2[i].bn1.weight.data.clone()\n",
    "    model14.layer2[i].bn1.bias.data = model18.layer2[i].bn1.bias.data.clone()\n",
    "    model14.layer2[i].bn1.running_mean = model18.layer2[i].bn1.running_mean.clone()\n",
    "    model14.layer2[i].bn1.running_var = model18.layer2[i].bn1.running_var.clone()\n",
    "\n",
    "    model14.layer2[i].conv2.weight.data = model18.layer2[i].conv2.weight.data.clone()\n",
    "    model14.layer2[i].bn2.weight.data = model18.layer2[i].bn2.weight.data.clone()\n",
    "    model14.layer2[i].bn2.bias.data = model18.layer2[i].bn2.bias.data.clone()\n",
    "    model14.layer2[i].bn2.running_mean = model18.layer2[i].bn2.running_mean.clone()\n",
    "    model14.layer2[i].bn2.running_var = model18.layer2[i].bn2.running_var.clone()\n",
    "\n",
    "for i in range(2):\n",
    "    model14.layer3[i].conv1.weight.data = model18.layer3[i].conv1.weight.data.clone()\n",
    "    model14.layer3[i].bn1.weight.data = model18.layer3[i].bn1.weight.data.clone()\n",
    "    model14.layer3[i].bn1.bias.data = model18.layer3[i].bn1.bias.data.clone()\n",
    "    model14.layer3[i].bn1.running_mean = model18.layer3[i].bn1.running_mean.clone()\n",
    "    model14.layer3[i].bn1.running_var = model18.layer3[i].bn1.running_var.clone()\n",
    "\n",
    "    model14.layer3[i].conv2.weight.data = model18.layer3[i].conv2.weight.data.clone()\n",
    "    model14.layer3[i].bn2.weight.data = model18.layer3[i].bn2.weight.data.clone()\n",
    "    model14.layer3[i].bn2.bias.data = model18.layer3[i].bn2.bias.data.clone()\n",
    "    model14.layer3[i].bn2.running_mean = model18.layer3[i].bn2.running_mean.clone()\n",
    "    model14.layer3[i].bn2.running_var = model18.layer3[i].bn2.running_var.clone()\n",
    "\n",
    "\n",
    "# Layer2 et Layer3\n",
    "# Répétez un processus similaire pour layer2 et layer3 de model14 et model18\n",
    "\n",
    "# Notez que pour les couches avec downsample, vous devrez également copier ces poids si elles existent\n"
   ]
  },
  {
   "cell_type": "code",
   "execution_count": null,
   "metadata": {},
   "outputs": [],
   "source": [
    "model14.fc = nn.Linear(256, 1) #supprimer .cuda() #récupérer une unique sortie ici #supprimer le dernier layer pour le remplacer (passer de 512->10 à 512->1)\n",
    "global_model = model14"
   ]
  },
  {
   "cell_type": "markdown",
   "metadata": {},
   "source": [
    "### __Compute eNTK__"
   ]
  },
  {
   "cell_type": "code",
   "execution_count": null,
   "metadata": {},
   "outputs": [],
   "source": [
    "# Train\n",
    "grad_all = []\n",
    "target_all = []\n",
    "target_onehot_all = []\n",
    "for i in range(num_clients):\n",
    "    # Modify the batch size in the training data loader to match the model's batch size\n",
    "    train_loader[i] = torch.utils.data.DataLoader(traindata_split[i], batch_size=batch_size_stage1, shuffle=True)\n",
    "    \n",
    "    grad_i, target_onehot_i, target_i = client_compute_eNTK(global_model, train_loader[i])\n",
    "    grad_all.append(copy.deepcopy(grad_i).cpu())\n",
    "    target_all.append(copy.deepcopy(target_i).cpu())\n",
    "    target_onehot_all.append(copy.deepcopy(target_onehot_i).cpu())\n",
    "    del grad_i\n",
    "    del target_onehot_i\n",
    "    del target_i\n",
    "    torch.cuda.empty_cache()"
   ]
  },
  {
   "cell_type": "code",
   "execution_count": null,
   "metadata": {},
   "outputs": [],
   "source": [
    "# Test\n",
    "grad_eval, target_eval_onehot, target_eval  = client_compute_eNTK(global_model, test_loader)"
   ]
  },
  {
   "cell_type": "markdown",
   "metadata": {},
   "source": [
    "### __run stage 2__"
   ]
  },
  {
   "cell_type": "code",
   "execution_count": null,
   "metadata": {},
   "outputs": [],
   "source": [
    "# Init linear models\n",
    "theta_global = torch.zeros(100000, 10) #supprimer .cuda()\n",
    "\n",
    "client_thetas = [torch.zeros_like(theta_global) for _ in range(num_clients)] #supprimer .cuda()\n",
    "client_hi_s = [torch.zeros_like(theta_global) for _ in range(num_clients)] #supprimer .cuda()"
   ]
  },
  {
   "cell_type": "markdown",
   "metadata": {},
   "source": [
    "__prendre pour theta initial la valeur des paramètres du modèle -> échec__"
   ]
  },
  {
   "cell_type": "code",
   "execution_count": null,
   "metadata": {},
   "outputs": [],
   "source": [
    "#seed = args['seed']\n",
    "#subsample_size = 100000\n",
    "#torch.manual_seed(seed)\n",
    "#torch.cuda.manual_seed(seed)\n",
    "\n",
    "#n_params = sum(p.numel() for p in list(global_model.parameters()))\n",
    "#random_index = torch.randperm(n_params)[:subsample_size]\n",
    "#theta_global = torch.cat([param.flatten() for param in list(model.parameters())])[random_index]\n",
    "\n",
    "#theta_global = theta_global.view(-1, 1).repeat(1, 10)\n",
    "#client_thetas = [theta_global for _ in range(num_clients)] #supprimer .cuda()"
   ]
  },
  {
   "cell_type": "code",
   "execution_count": null,
   "metadata": {},
   "outputs": [],
   "source": [
    "# Run TCT-Stage2\n",
    "for round_idx in range(num_rounds_stage2):\n",
    "    theta_list = []\n",
    "    for i in range(num_clients):\n",
    "        theta_hat_update, h_i_client_update = scaffold_update(grad_all[i],\n",
    "                                                              target_all[i],\n",
    "                                                              client_thetas[i],\n",
    "                                                              client_hi_s[i],\n",
    "                                                              theta_global,\n",
    "                                                              M=args[\"local_steps_stage2\"],\n",
    "                                                              lr_local=args[\"local_lr_stage2\"])\n",
    "        client_hi_s[i] = h_i_client_update * 1.0\n",
    "        client_thetas[i] = theta_hat_update * 1.0\n",
    "        theta_list.append(theta_hat_update)\n",
    "\n",
    "    # averaging\n",
    "    theta_global = torch.zeros_like(theta_list[0]) #supprimer .cuda()\n",
    "    for theta_idx in range(num_clients):\n",
    "        theta_global += (1.0 / num_clients) * theta_list[theta_idx]\n",
    "\n",
    "    # eval on train\n",
    "    logits_class_train = torch.cat(grad_all) @ theta_global #supprimer .cuda()\n",
    "    _, targets_pred_train = logits_class_train.max(1)\n",
    "    train_acc = targets_pred_train.eq(torch.cat(target_all)).sum() / (1.0 * logits_class_train.shape[0]) #supprimer .cuda()\n",
    "    # eval on test\n",
    "    logits_class_test = grad_eval @ theta_global\n",
    "    _, targets_pred_test = logits_class_test.max(1)\n",
    "    test_acc = targets_pred_test.eq(target_eval).sum() / (1.0 * logits_class_test.shape[0]) #supprimer .cuda()\n",
    "    print('Round %d: train accuracy=%0.5g test accuracy=%0.5g' % (round_idx, train_acc.item(), test_acc.item()))"
   ]
  }
 ],
 "metadata": {
  "kernelspec": {
   "display_name": "Python 3",
   "language": "python",
   "name": "python3"
  },
  "language_info": {
   "codemirror_mode": {
    "name": "ipython",
    "version": 3
   },
   "file_extension": ".py",
   "mimetype": "text/x-python",
   "name": "python",
   "nbconvert_exporter": "python",
   "pygments_lexer": "ipython3",
   "version": "3.11.6"
  }
 },
 "nbformat": 4,
 "nbformat_minor": 2
}
